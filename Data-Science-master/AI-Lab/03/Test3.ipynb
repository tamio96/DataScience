{
 "cells": [
  {
   "cell_type": "code",
   "execution_count": 2,
   "metadata": {},
   "outputs": [
    {
     "data": {
      "text/plain": [
       "('cancer.csv', <http.client.HTTPMessage at 0x1dfbb633b38>)"
      ]
     },
     "execution_count": 2,
     "metadata": {},
     "output_type": "execute_result"
    }
   ],
   "source": [
    "from urllib.request import urlretrieve\n",
    "url = 'https://archive.ics.uci.edu/ml/machine-learning-databases/breast-cancer-wisconsin/breast-cancer-wisconsin.data'\n",
    "urlretrieve(url, 'cancer.csv')"
   ]
  },
  {
   "cell_type": "code",
   "execution_count": 1,
   "metadata": {},
   "outputs": [
    {
     "name": "stderr",
     "output_type": "stream",
     "text": [
      "D:\\Anaconda2\\envs\\py36\\lib\\site-packages\\statsmodels\\compat\\pandas.py:56: FutureWarning: The pandas.core.datetools module is deprecated and will be removed in a future version. Please use the pandas.tseries module instead.\n",
      "  from pandas.core import datetools\n"
     ]
    }
   ],
   "source": [
    "# Import modules\n",
    "import pandas as pd\n",
    "import matplotlib.pyplot as plt\n",
    "import seaborn as sns\n",
    "import scipy\n",
    "import re\n",
    "import numpy as np\n",
    "import statsmodels.api as sm\n",
    "\n",
    "from sklearn.model_selection import train_test_split\n",
    "from sklearn.linear_model import LogisticRegression\n",
    "from sklearn.model_selection import GridSearchCV\n",
    "from sklearn.feature_selection import RFE\n",
    "from sklearn.linear_model import LogisticRegression\n",
    "\n",
    "# Figures inline and set visualization style\n",
    "%matplotlib inline\n",
    "sns.set()"
   ]
  },
  {
   "cell_type": "code",
   "execution_count": 39,
   "metadata": {},
   "outputs": [
    {
     "name": "stdout",
     "output_type": "stream",
     "text": [
      "<class 'pandas.core.frame.DataFrame'>\n",
      "RangeIndex: 699 entries, 0 to 698\n",
      "Data columns (total 10 columns):\n",
      "Clump Thickness                699 non-null int64\n",
      "Uniformity of Cell Size        699 non-null int64\n",
      "Uniformity of Cell Shape       699 non-null int64\n",
      "Marginal Adhesion              699 non-null int64\n",
      "Single Epithelial Cell Size    699 non-null int64\n",
      "Bare Nuclei                    699 non-null object\n",
      "Bland Chromatin                699 non-null int64\n",
      "Normal Nucleoli                699 non-null int64\n",
      "Mitoses                        699 non-null int64\n",
      "Class                          699 non-null uint8\n",
      "dtypes: int64(8), object(1), uint8(1)\n",
      "memory usage: 49.9+ KB\n"
     ]
    }
   ],
   "source": [
    "cancer = pd.read_csv('cancer.csv', index_col=0, names=['Clump Thickness', 'Uniformity of Cell Size', 'Uniformity of Cell Shape', 'Marginal Adhesion', 'Single Epithelial Cell Size', 'Bare Nuclei', 'Bland Chromatin', 'Normal Nucleoli', 'Mitoses', 'Class'])\n",
    "cancer_df = pd.get_dummies(cancer, columns=['Class'], drop_first=True)\n",
    "\n",
    "cancer_df.rename({'Class_4': 'Class'}, axis=1, inplace=True)\n",
    "cancer_df.reset_index(drop=True, inplace=True)\n",
    "cancer_df.info()"
   ]
  },
  {
   "cell_type": "code",
   "execution_count": 40,
   "metadata": {},
   "outputs": [
    {
     "name": "stdout",
     "output_type": "stream",
     "text": [
      "23\n",
      "40\n",
      "139\n",
      "145\n",
      "158\n",
      "164\n",
      "235\n",
      "249\n",
      "275\n",
      "292\n",
      "294\n",
      "297\n",
      "315\n",
      "321\n",
      "411\n",
      "617\n",
      "<class 'pandas.core.frame.DataFrame'>\n",
      "Int64Index: 683 entries, 0 to 698\n",
      "Data columns (total 10 columns):\n",
      "Clump Thickness                683 non-null int64\n",
      "Uniformity of Cell Size        683 non-null int64\n",
      "Uniformity of Cell Shape       683 non-null int64\n",
      "Marginal Adhesion              683 non-null int64\n",
      "Single Epithelial Cell Size    683 non-null int64\n",
      "Bare Nuclei                    683 non-null object\n",
      "Bland Chromatin                683 non-null int64\n",
      "Normal Nucleoli                683 non-null int64\n",
      "Mitoses                        683 non-null int64\n",
      "Class                          683 non-null uint8\n",
      "dtypes: int64(8), object(1), uint8(1)\n",
      "memory usage: 54.0+ KB\n",
      "None\n"
     ]
    }
   ],
   "source": [
    "row_drop = []\n",
    "for label, row in cancer_df.iterrows():\n",
    "    if row['Bare Nuclei'] == '?':\n",
    "        row_drop.append(label)\n",
    "        \n",
    "cancer_df.drop(row_drop, inplace=True)\n",
    "print(cancer_df.info())"
   ]
  },
  {
   "cell_type": "code",
   "execution_count": 41,
   "metadata": {},
   "outputs": [
    {
     "name": "stdout",
     "output_type": "stream",
     "text": [
      "<class 'pandas.core.frame.DataFrame'>\n",
      "Int64Index: 683 entries, 0 to 698\n",
      "Data columns (total 10 columns):\n",
      "Clump Thickness                683 non-null int64\n",
      "Uniformity of Cell Size        683 non-null int64\n",
      "Uniformity of Cell Shape       683 non-null int64\n",
      "Marginal Adhesion              683 non-null int64\n",
      "Single Epithelial Cell Size    683 non-null int64\n",
      "Bare Nuclei                    683 non-null int64\n",
      "Bland Chromatin                683 non-null int64\n",
      "Normal Nucleoli                683 non-null int64\n",
      "Mitoses                        683 non-null int64\n",
      "Class                          683 non-null uint8\n",
      "dtypes: int64(9), uint8(1)\n",
      "memory usage: 54.0 KB\n",
      "None\n"
     ]
    }
   ],
   "source": [
    "cancer_df['Bare Nuclei'] = pd.to_numeric(cancer_df['Bare Nuclei'], errors='coerce')\n",
    "print(cancer_df.info())"
   ]
  },
  {
   "cell_type": "code",
   "execution_count": 36,
   "metadata": {},
   "outputs": [
    {
     "data": {
      "text/plain": [
       "\u001b[1;31mSignature:\u001b[0m \u001b[0mpd\u001b[0m\u001b[1;33m.\u001b[0m\u001b[0mto_numeric\u001b[0m\u001b[1;33m(\u001b[0m\u001b[0marg\u001b[0m\u001b[1;33m,\u001b[0m \u001b[0merrors\u001b[0m\u001b[1;33m=\u001b[0m\u001b[1;34m'raise'\u001b[0m\u001b[1;33m,\u001b[0m \u001b[0mdowncast\u001b[0m\u001b[1;33m=\u001b[0m\u001b[1;32mNone\u001b[0m\u001b[1;33m)\u001b[0m\u001b[1;33m\u001b[0m\u001b[0m\n",
       "\u001b[1;31mDocstring:\u001b[0m\n",
       "Convert argument to a numeric type.\n",
       "\n",
       "Parameters\n",
       "----------\n",
       "arg : list, tuple, 1-d array, or Series\n",
       "errors : {'ignore', 'raise', 'coerce'}, default 'raise'\n",
       "    - If 'raise', then invalid parsing will raise an exception\n",
       "    - If 'coerce', then invalid parsing will be set as NaN\n",
       "    - If 'ignore', then invalid parsing will return the input\n",
       "downcast : {'integer', 'signed', 'unsigned', 'float'} , default None\n",
       "    If not None, and if the data has been successfully cast to a\n",
       "    numerical dtype (or if the data was numeric to begin with),\n",
       "    downcast that resulting data to the smallest numerical dtype\n",
       "    possible according to the following rules:\n",
       "\n",
       "    - 'integer' or 'signed': smallest signed int dtype (min.: np.int8)\n",
       "    - 'unsigned': smallest unsigned int dtype (min.: np.uint8)\n",
       "    - 'float': smallest float dtype (min.: np.float32)\n",
       "\n",
       "    As this behaviour is separate from the core conversion to\n",
       "    numeric values, any errors raised during the downcasting\n",
       "    will be surfaced regardless of the value of the 'errors' input.\n",
       "\n",
       "    In addition, downcasting will only occur if the size\n",
       "    of the resulting data's dtype is strictly larger than\n",
       "    the dtype it is to be cast to, so if none of the dtypes\n",
       "    checked satisfy that specification, no downcasting will be\n",
       "    performed on the data.\n",
       "\n",
       "    .. versionadded:: 0.19.0\n",
       "\n",
       "Returns\n",
       "-------\n",
       "ret : numeric if parsing succeeded.\n",
       "    Return type depends on input.  Series if Series, otherwise ndarray\n",
       "\n",
       "Examples\n",
       "--------\n",
       "Take separate series and convert to numeric, coercing when told to\n",
       "\n",
       ">>> import pandas as pd\n",
       ">>> s = pd.Series(['1.0', '2', -3])\n",
       ">>> pd.to_numeric(s)\n",
       "0    1.0\n",
       "1    2.0\n",
       "2   -3.0\n",
       "dtype: float64\n",
       ">>> pd.to_numeric(s, downcast='float')\n",
       "0    1.0\n",
       "1    2.0\n",
       "2   -3.0\n",
       "dtype: float32\n",
       ">>> pd.to_numeric(s, downcast='signed')\n",
       "0    1\n",
       "1    2\n",
       "2   -3\n",
       "dtype: int8\n",
       ">>> s = pd.Series(['apple', '1.0', '2', -3])\n",
       ">>> pd.to_numeric(s, errors='ignore')\n",
       "0    apple\n",
       "1      1.0\n",
       "2        2\n",
       "3       -3\n",
       "dtype: object\n",
       ">>> pd.to_numeric(s, errors='coerce')\n",
       "0    NaN\n",
       "1    1.0\n",
       "2    2.0\n",
       "3   -3.0\n",
       "dtype: float64\n",
       "\n",
       "See also\n",
       "--------\n",
       "pandas.DataFrame.astype : Cast argument to a specified dtype.\n",
       "pandas.to_datetime : Convert argument to datetime.\n",
       "pandas.to_timedelta : Convert argument to timedelta.\n",
       "numpy.ndarray.astype : Cast a numpy array to a specified type.\n",
       "\u001b[1;31mFile:\u001b[0m      d:\\anaconda2\\envs\\py36\\lib\\site-packages\\pandas\\core\\tools\\numeric.py\n",
       "\u001b[1;31mType:\u001b[0m      function\n"
      ]
     },
     "metadata": {},
     "output_type": "display_data"
    }
   ],
   "source": [
    "?pd.to_numeric"
   ]
  }
 ],
 "metadata": {
  "kernelspec": {
   "display_name": "Python [conda env:py36]",
   "language": "python",
   "name": "conda-env-py36-py"
  },
  "language_info": {
   "codemirror_mode": {
    "name": "ipython",
    "version": 3
   },
   "file_extension": ".py",
   "mimetype": "text/x-python",
   "name": "python",
   "nbconvert_exporter": "python",
   "pygments_lexer": "ipython3",
   "version": "3.6.3"
  }
 },
 "nbformat": 4,
 "nbformat_minor": 2
}
