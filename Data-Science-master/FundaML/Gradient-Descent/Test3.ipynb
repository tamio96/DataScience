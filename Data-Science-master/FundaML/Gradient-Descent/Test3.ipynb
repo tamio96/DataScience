{
 "cells": [
  {
   "cell_type": "code",
   "execution_count": 1,
   "metadata": {},
   "outputs": [],
   "source": [
    "import math\n",
    "import numpy as np\n",
    "import matplotlib.pyplot as plt\n",
    "import pandas as pd"
   ]
  },
  {
   "cell_type": "code",
   "execution_count": 5,
   "metadata": {},
   "outputs": [
    {
     "name": "stdout",
     "output_type": "stream",
     "text": [
      "Solution x1 = -1.1109543623859697 , cost =  -3.246393634381367 after 9  iterations\n",
      "Solution x2 = -1.1100292207856688 , cost =  -3.2463935222845786 after 27  iterations\n"
     ]
    }
   ],
   "source": [
    "def grad(eta, x):\n",
    "    return x - eta*(2*x+5*np.cos(x))\n",
    "\n",
    "def cost(x):\n",
    "    return x*x + 5*np.sin(x)\n",
    "\n",
    "def GD(eta, x_guess):\n",
    "    for it in range(100):\n",
    "        x_new = grad(eta, x_guess)\n",
    "        if abs(x_new-x_guess)<1e-3:\n",
    "            break\n",
    "        x_guess = x_new\n",
    "    return (x_new, it)\n",
    "\n",
    "(x1, it1) = GD(.1, -5)\n",
    "print('Solution x1 =', x1, ', cost = ', cost(x1), 'after', it1, ' iterations')\n",
    "\n",
    "(x2, it2) = GD(.1, 5)\n",
    "print('Solution x2 =', x2, ', cost = ', cost(x2), 'after', it2, ' iterations')"
   ]
  },
  {
   "cell_type": "markdown",
   "metadata": {},
   "source": [
    "# GD For Linear Regression\n",
    "## Use derivative = 0"
   ]
  },
  {
   "cell_type": "code",
   "execution_count": 6,
   "metadata": {},
   "outputs": [
    {
     "name": "stdout",
     "output_type": "stream",
     "text": [
      "[[4.0992006 ]\n",
      " [3.00528921]]\n"
     ]
    }
   ],
   "source": [
    "X = np.random.rand(1000, 1)\n",
    "y = 4 + 3 * X + .2 * np.random.rand(1000, 1)\n",
    "\n",
    "one = np.ones((X.shape[0], 1))\n",
    "Xbar = np.concatenate((one, X), axis=1)\n",
    "\n",
    "A = np.dot(Xbar.T, Xbar)\n",
    "b = np.dot(Xbar.T, y)\n",
    "\n",
    "res = np.dot(np.linalg.pinv(A), b)\n",
    "print(res)"
   ]
  },
  {
   "cell_type": "code",
   "execution_count": 7,
   "metadata": {},
   "outputs": [
    {
     "name": "stdout",
     "output_type": "stream",
     "text": [
      "[[-2.   1. ]\n",
      " [ 1.5 -0.5]]\n"
     ]
    }
   ],
   "source": [
    "A = np.matrix([[1, 2], [3, 4]])\n",
    "A_plus = np.linalg.pinv(A)\n",
    "print(A_plus)"
   ]
  },
  {
   "cell_type": "code",
   "execution_count": 8,
   "metadata": {},
   "outputs": [
    {
     "name": "stdout",
     "output_type": "stream",
     "text": [
      "[[-2.   1. ]\n",
      " [ 1.5 -0.5]]\n"
     ]
    }
   ],
   "source": [
    "A_int = np.dot(A.T, A)\n",
    "print(np.dot(np.linalg.inv(A_int), A.T))"
   ]
  },
  {
   "cell_type": "code",
   "execution_count": 9,
   "metadata": {},
   "outputs": [
    {
     "name": "stdout",
     "output_type": "stream",
     "text": [
      "4.099200603339156 3.005289214141669\n"
     ]
    },
    {
     "data": {
      "text/plain": [
       "(0, 1, 1, 8)"
      ]
     },
     "execution_count": 9,
     "metadata": {},
     "output_type": "execute_result"
    },
    {
     "data": {
      "image/png": "[encoded data removed]",
      "text/plain": [
       "<matplotlib.figure.Figure at 0x1aa466a8320>"
      ]
     },
     "metadata": {},
     "output_type": "display_data"
    }
   ],
   "source": [
    "t_point = np.linspace(0, 1, 2, endpoint=True)\n",
    "\n",
    "X0 = res[0][0]\n",
    "X1 = res[1][0]\n",
    "\n",
    "Y = X0 + t_point*X1\n",
    "\n",
    "print(X0, X1)\n",
    "\n",
    "plt.plot(X, y, 'b.')\n",
    "plt.plot(t_point, Y, 'y', linewidth=3)\n",
    "plt.axis((0, 1, 1, 8))"
   ]
  },
  {
   "cell_type": "markdown",
   "metadata": {},
   "source": [
    "## Use GD\n",
    "### Check numerical gradient and gradient"
   ]
  },
  {
   "cell_type": "code",
   "execution_count": 38,
   "metadata": {},
   "outputs": [],
   "source": [
    "def grad(w):\n",
    "    N = Xbar.shape[0]\n",
    "    return 1/N*Xbar.T.dot(Xbar.dot(w) - y)\n",
    "\n",
    "def cost(w):\n",
    "    N = Xbar.shape[0]\n",
    "    return .5/N*np.linalg.norm(y - Xbar.dot(w), 2)**2"
   ]
  },
  {
   "cell_type": "code",
   "execution_count": 43,
   "metadata": {},
   "outputs": [
    {
     "name": "stdout",
     "output_type": "stream",
     "text": [
      "Checking gradient: True\n"
     ]
    }
   ],
   "source": [
    "def numerical_grad(w, cost):\n",
    "    eps = 1e-4\n",
    "    g = np.zeros_like(w)\n",
    "    for i in range(len(w)):\n",
    "        w_p = w.copy()\n",
    "        w_n = w.copy()\n",
    "        w_p[i] += eps\n",
    "        w_n[i] -= eps\n",
    "        g[i] = (cost(w_p) - cost(w_n))/(2*eps)\n",
    "    return g\n",
    "\n",
    "def check_grad(w, cost, grad):\n",
    "    w = np.random.rand(w.shape[0], 1)\n",
    "    grad1 = grad(w)\n",
    "    grad2 = numeriacal_grad(w, cost)\n",
    "    return True if np.linalg.norm(grad1 - grad2) < 1e-6 else False\n",
    "\n",
    "print('Checking gradient:', check_grad(np.random.rand(2, 1), cost, grad))"
   ]
  },
  {
   "cell_type": "code",
   "execution_count": 49,
   "metadata": {},
   "outputs": [
    {
     "name": "stdout",
     "output_type": "stream",
     "text": [
      "Solution by Numerical Gradient is [[4.11408462 2.97732227]] after 45 iteration\n"
     ]
    }
   ],
   "source": [
    "def myGD(w_init, cost, numerical_grad):\n",
    "    w = w_init.copy()\n",
    "    for it in range(100):\n",
    "        w_new = w - numerical_grad(w, cost)\n",
    "        if np.linalg.norm(grad(w_new))/len(w_new) < 1e-3:\n",
    "            break\n",
    "        w = w_new\n",
    "    return (w, it)\n",
    "\n",
    "w = np.random.rand(2, 1)\n",
    "(w1, it1) = myGD(w, cost, numerical_grad)\n",
    "print('Solution by Numerical Gradient is', w1.T, 'after', it1, 'iteration')"
   ]
  },
  {
   "cell_type": "markdown",
   "metadata": {},
   "source": [
    "## Momentum"
   ]
  },
  {
   "cell_type": "code",
   "execution_count": 4,
   "metadata": {},
   "outputs": [],
   "source": [
    "def is_converged(theta_new, numerical_grad):\n",
    "    return np.linalg.norm(numerical_grad(theta_new))/len(theta_new)<1e-3\n",
    "\n",
    "def GD_momentum(theta_init, numerical_grad, eta, gamma):\n",
    "    theta = theta_init.copy()\n",
    "    v = np.zeros_like(theta)\n",
    "    for it in range(100):\n",
    "        v_new = gamma*v + eta*numerical_grad(theta)\n",
    "        theta_new = theta - v_new\n",
    "        if is_converged(theta_new, numerical_grad):\n",
    "            break\n",
    "        theta = theta_new.copy()\n",
    "        v = v_new\n",
    "    return (theta, it)"
   ]
  },
  {
   "cell_type": "code",
   "execution_count": 11,
   "metadata": {},
   "outputs": [
    {
     "name": "stdout",
     "output_type": "stream",
     "text": [
      "[[1.         0.95539374]\n",
      " [1.         0.82362909]\n",
      " [1.         0.4815521 ]\n",
      " [1.         0.4158664 ]\n",
      " [1.         0.92924575]\n",
      " [1.         0.84911176]\n",
      " [1.         0.61297841]\n",
      " [1.         0.65175937]\n",
      " [1.         0.21795789]\n",
      " [1.         0.10696148]]\n"
     ]
    },
    {
     "data": {
      "text/plain": [
       "array([1.        , 0.61297841])"
      ]
     },
     "execution_count": 11,
     "metadata": {},
     "output_type": "execute_result"
    }
   ],
   "source": [
    "X = np.random.rand(10, 1)\n",
    "y = 4 + 3 * X + .2 * np.random.rand(10, 1)\n",
    "\n",
    "one = np.ones((X.shape[0], 1))\n",
    "Xbar = np.concatenate((one, X), axis=1)\n",
    "print(Xbar)\n",
    "true_i = np.random.permutation(10)\n",
    "xi = Xbar[true_i[1], :]\n",
    "xi"
   ]
  },
  {
   "cell_type": "markdown",
   "metadata": {},
   "source": [
    "## Stochastic Gradient Descent"
   ]
  },
  {
   "cell_type": "code",
   "execution_count": 12,
   "metadata": {},
   "outputs": [],
   "source": [
    "X = np.random.rand(1000, 1)\n",
    "y = 4 + 3 * X + .2 * np.random.rand(1000, 1)\n",
    "\n",
    "one = np.ones((X.shape[0], 1))\n",
    "Xbar = np.concatenate((one, X), axis=1)"
   ]
  },
  {
   "cell_type": "code",
   "execution_count": 15,
   "metadata": {},
   "outputs": [],
   "source": [
    "def sgd_grad(w, label, random_labels):\n",
    "    cur_label = random_labels[label]\n",
    "    xi = Xbar[cur_label, :]\n",
    "    yi = y[cur_label]\n",
    "    a = np.dot(xi, w) - yi\n",
    "    return a * xi.T\n",
    "\n",
    "def SGD(w_init, eta):\n",
    "    w = [w_init]\n",
    "    w_last_check = w_init\n",
    "    N = X.shape[0]\n",
    "    check_after_ten = 10\n",
    "    count = 0\n",
    "    for it in range(10):\n",
    "        random_labels = np.random.permutation(N)\n",
    "        for i in range(N):\n",
    "            count += 1\n",
    "            loss_f = sgd_grad(w[-1], i, random_labels)\n",
    "            w_new = w[-1] - eta*loss_f\n",
    "            w.append(w_new)\n",
    "            if count % check_after_ten == 0:\n",
    "                w_this_check = w_new\n",
    "                if np.linalg.norm(w_this_check - w_last_check)/len(w_init) < 1e-3:\n",
    "                    return w\n",
    "                w_last_check = w_this_check\n",
    "    return w"
   ]
  }
 ],
 "metadata": {
  "kernelspec": {
   "display_name": "Python [conda env:py36]",
   "language": "python",
   "name": "conda-env-py36-py"
  },
  "language_info": {
   "codemirror_mode": {
    "name": "ipython",
    "version": 3
   },
   "file_extension": ".py",
   "mimetype": "text/x-python",
   "name": "python",
   "nbconvert_exporter": "python",
   "pygments_lexer": "ipython3",
   "version": "3.6.3"
  }
 },
 "nbformat": 4,
 "nbformat_minor": 2
}
