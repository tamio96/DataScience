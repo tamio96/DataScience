{
 "cells": [
  {
   "cell_type": "code",
   "execution_count": 1,
   "metadata": {},
   "outputs": [],
   "source": [
    "import numpy as np\n",
    "import pandas as pd\n",
    "import matplotlib.pyplot as plt\n",
    "from sklearn import neighbors, datasets\n",
    "\n",
    "from sklearn.model_selection import train_test_split\n",
    "from sklearn.metrics import accuracy_score"
   ]
  },
  {
   "cell_type": "code",
   "execution_count": 2,
   "metadata": {},
   "outputs": [
    {
     "name": "stdout",
     "output_type": "stream",
     "text": [
      "[0 1 2]\n",
      "150\n",
      "Sample from class 0:\n",
      "[[5.1 3.5 1.4 0.2]\n",
      " [4.9 3.  1.4 0.2]\n",
      " [4.7 3.2 1.3 0.2]\n",
      " [4.6 3.1 1.5 0.2]\n",
      " [5.  3.6 1.4 0.2]]\n",
      "Sample from class 1:\n",
      "[[7.  3.2 4.7 1.4]\n",
      " [6.4 3.2 4.5 1.5]\n",
      " [6.9 3.1 4.9 1.5]\n",
      " [5.5 2.3 4.  1.3]\n",
      " [6.5 2.8 4.6 1.5]]\n",
      "Sample from class 2:\n",
      "[[6.3 3.3 6.  2.5]\n",
      " [5.8 2.7 5.1 1.9]\n",
      " [7.1 3.  5.9 2.1]\n",
      " [6.3 2.9 5.6 1.8]\n",
      " [6.5 3.  5.8 2.2]]\n"
     ]
    }
   ],
   "source": [
    "iris = datasets.load_iris()\n",
    "iris_X = iris.data\n",
    "iris_y = iris.target\n",
    "\n",
    "print(np.unique(iris_y))\n",
    "print(len(iris_X))\n",
    "\n",
    "print('Sample from class 0:')\n",
    "X0 = iris_X[iris_y==0, :]\n",
    "print(X0[:5, :])\n",
    "\n",
    "print('Sample from class 1:')\n",
    "X1 = iris_X[iris_y==1, :]\n",
    "print(X1[:5, :])\n",
    "\n",
    "print('Sample from class 2:')\n",
    "X2 = iris_X[iris_y==2, :]\n",
    "print(X2[:5, :])"
   ]
  },
  {
   "cell_type": "code",
   "execution_count": 6,
   "metadata": {},
   "outputs": [
    {
     "data": {
      "text/plain": [
       "50"
      ]
     },
     "execution_count": 6,
     "metadata": {},
     "output_type": "execute_result"
    }
   ],
   "source": [
    "X_train, X_test, y_train, y_test = train_test_split(iris_X, iris_y, test_size=50)\n",
    "\n",
    "len(y_train)\n",
    "len(y_test)"
   ]
  },
  {
   "cell_type": "code",
   "execution_count": 21,
   "metadata": {},
   "outputs": [
    {
     "name": "stdout",
     "output_type": "stream",
     "text": [
      "Results for 20 test data points:\n",
      "Predicted data:  [0 0 0 1 2 0 1 2 0 0 1 1 2 1 0 2 2 0 2 1]\n",
      "Ground Truth:    [0 0 0 2 2 0 1 2 0 0 1 2 2 1 0 2 2 0 2 1]\n",
      "Accuracy of 1NN is  0.94\n"
     ]
    }
   ],
   "source": [
    "clf = neighbors.KNeighborsClassifier(n_neighbors=1, p=2)\n",
    "clf.fit(X_train, y_train)\n",
    "y_pred = clf.predict(X_test)\n",
    "\n",
    "print('Results for 20 test data points:')\n",
    "print('Predicted data: ', y_pred[20:40])\n",
    "print('Ground Truth:   ', y_test[20:40])\n",
    "\n",
    "print('Accuracy of 1NN is ', accuracy_score(y_test, y_pred))"
   ]
  },
  {
   "cell_type": "code",
   "execution_count": 20,
   "metadata": {},
   "outputs": [
    {
     "name": "stdout",
     "output_type": "stream",
     "text": [
      "Results for 20 test data points:\n",
      "Predicted data:  [0 0 0 1 2 0 1 2 0 0 1 2 2 1 0 2 2 0 2 1]\n",
      "Ground Truth:    [0 0 0 2 2 0 1 2 0 0 1 2 2 1 0 2 2 0 2 1]\n",
      "Accuracy of 10NN is  0.98\n"
     ]
    }
   ],
   "source": [
    "clf = neighbors.KNeighborsClassifier(n_neighbors=10, p=2)\n",
    "clf.fit(X_train, y_train)\n",
    "y_pred = clf.predict(X_test)\n",
    "\n",
    "print('Results for 20 test data points:')\n",
    "print('Predicted data: ', y_pred[20:40])\n",
    "print('Ground Truth:   ', y_test[20:40])\n",
    "\n",
    "print('Accuracy of 10NN is ', accuracy_score(y_test, y_pred))"
   ]
  },
  {
   "cell_type": "code",
   "execution_count": 24,
   "metadata": {},
   "outputs": [
    {
     "name": "stdout",
     "output_type": "stream",
     "text": [
      "Results for 20 test data points:\n",
      "Predicted data:  [0 0 0 1 2 0 1 2 0 0 1 2 2 1 0 2 2 0 2 1]\n",
      "Ground Truth:    [0 0 0 2 2 0 1 2 0 0 1 2 2 1 0 2 2 0 2 1]\n",
      "Accuracy of 10NN with distance weights is  0.98\n"
     ]
    }
   ],
   "source": [
    "clf = neighbors.KNeighborsClassifier(n_neighbors=10, p=2, weights='distance')\n",
    "clf.fit(X_train, y_train)\n",
    "y_pred = clf.predict(X_test)\n",
    "\n",
    "print('Results for 20 test data points:')\n",
    "print('Predicted data: ', y_pred[20:40])\n",
    "print('Ground Truth:   ', y_test[20:40])\n",
    "\n",
    "print('Accuracy of 10NN with distance weights is ', accuracy_score(y_test, y_pred))"
   ]
  },
  {
   "cell_type": "code",
   "execution_count": 25,
   "metadata": {},
   "outputs": [
    {
     "name": "stdout",
     "output_type": "stream",
     "text": [
      "Results for 20 test data points:\n",
      "Predicted data:  [0 0 0 1 2 0 1 2 0 0 1 2 2 1 0 2 2 0 2 1]\n",
      "Ground Truth:    [0 0 0 2 2 0 1 2 0 0 1 2 2 1 0 2 2 0 2 1]\n",
      "Accuracy of 10NN with customized weights is  0.98\n"
     ]
    }
   ],
   "source": [
    "def my_weight(distances):\n",
    "    sigma2 = .5\n",
    "    return np.exp(-distances**2/sigma2)\n",
    "\n",
    "clf = neighbors.KNeighborsClassifier(n_neighbors=10, p=2, weights=my_weight)\n",
    "clf.fit(X_train, y_train)\n",
    "y_pred = clf.predict(X_test)\n",
    "\n",
    "print('Results for 20 test data points:')\n",
    "print('Predicted data: ', y_pred[20:40])\n",
    "print('Ground Truth:   ', y_test[20:40])\n",
    "\n",
    "print('Accuracy of 10NN with customized weights is ', accuracy_score(y_test, y_pred))"
   ]
  },
  {
   "cell_type": "code",
   "execution_count": null,
   "metadata": {},
   "outputs": [],
   "source": []
  },
  {
   "cell_type": "code",
   "execution_count": 49,
   "metadata": {},
   "outputs": [
    {
     "data": {
      "text/plain": [
       "\u001b[1;31mSignature:\u001b[0m \u001b[0mMNIST\u001b[0m\u001b[1;33m.\u001b[0m\u001b[0mload_testing\u001b[0m\u001b[1;33m(\u001b[0m\u001b[0mself\u001b[0m\u001b[1;33m)\u001b[0m\u001b[1;33m\u001b[0m\u001b[0m\n",
       "\u001b[1;31mDocstring:\u001b[0m <no docstring>\n",
       "\u001b[1;31mFile:\u001b[0m      d:\\anaconda\\envs\\py36\\lib\\site-packages\\mnist\\loader.py\n",
       "\u001b[1;31mType:\u001b[0m      function\n"
      ]
     },
     "metadata": {},
     "output_type": "display_data"
    }
   ],
   "source": [
    "?MNIST.load_testing"
   ]
  }
 ],
 "metadata": {
  "kernelspec": {
   "display_name": "Python 3",
   "language": "python",
   "name": "python3"
  },
  "language_info": {
   "codemirror_mode": {
    "name": "ipython",
    "version": 3
   },
   "file_extension": ".py",
   "mimetype": "text/x-python",
   "name": "python",
   "nbconvert_exporter": "python",
   "pygments_lexer": "ipython3",
   "version": "3.6.3"
  }
 },
 "nbformat": 4,
 "nbformat_minor": 2
}
