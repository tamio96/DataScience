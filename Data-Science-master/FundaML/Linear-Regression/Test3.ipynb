{
 "cells": [
  {
   "cell_type": "code",
   "execution_count": 6,
   "metadata": {},
   "outputs": [],
   "source": [
    "import pandas as pd\n",
    "import numpy as np\n",
    "import matplotlib.pyplot as plt\n",
    "import seaborn as sns\n",
    "from sklearn.model_selection import train_test_split\n",
    "\n",
    "%matplotlib inline\n",
    "sns.set()"
   ]
  },
  {
   "cell_type": "code",
   "execution_count": 8,
   "metadata": {},
   "outputs": [
    {
     "data": {
      "text/html": [
       "<div>\n",
       "<style scoped>\n",
       "    .dataframe tbody tr th:only-of-type {\n",
       "        vertical-align: middle;\n",
       "    }\n",
       "\n",
       "    .dataframe tbody tr th {\n",
       "        vertical-align: top;\n",
       "    }\n",
       "\n",
       "    .dataframe thead th {\n",
       "        text-align: right;\n",
       "    }\n",
       "</style>\n",
       "<table border=\"1\" class=\"dataframe\">\n",
       "  <thead>\n",
       "    <tr style=\"text-align: right;\">\n",
       "      <th></th>\n",
       "      <th>height</th>\n",
       "      <th>weight</th>\n",
       "    </tr>\n",
       "  </thead>\n",
       "  <tbody>\n",
       "    <tr>\n",
       "      <th>0</th>\n",
       "      <td>147</td>\n",
       "      <td>49</td>\n",
       "    </tr>\n",
       "    <tr>\n",
       "      <th>1</th>\n",
       "      <td>150</td>\n",
       "      <td>50</td>\n",
       "    </tr>\n",
       "    <tr>\n",
       "      <th>2</th>\n",
       "      <td>153</td>\n",
       "      <td>51</td>\n",
       "    </tr>\n",
       "    <tr>\n",
       "      <th>3</th>\n",
       "      <td>158</td>\n",
       "      <td>54</td>\n",
       "    </tr>\n",
       "    <tr>\n",
       "      <th>4</th>\n",
       "      <td>163</td>\n",
       "      <td>58</td>\n",
       "    </tr>\n",
       "  </tbody>\n",
       "</table>\n",
       "</div>"
      ],
      "text/plain": [
       "   height  weight\n",
       "0     147      49\n",
       "1     150      50\n",
       "2     153      51\n",
       "3     158      54\n",
       "4     163      58"
      ]
     },
     "execution_count": 8,
     "metadata": {},
     "output_type": "execute_result"
    }
   ],
   "source": [
    "height = [147, 150, 153, 158, 163, 165, 168, 170, 173, 175, 178, 180, 183]\n",
    "weight = [49, 50, 51, 54, 58, 59, 60, 62, 63, 64, 66, 67, 68]\n",
    "\n",
    "df = pd.DataFrame({\n",
    "    'height': height,\n",
    "    'weight': weight\n",
    "})\n",
    "\n",
    "df.head()"
   ]
  },
  {
   "cell_type": "code",
   "execution_count": 12,
   "metadata": {},
   "outputs": [
    {
     "data": {
      "text/plain": [
       "<seaborn.axisgrid.FacetGrid at 0x18be09cc2b0>"
      ]
     },
     "execution_count": 12,
     "metadata": {},
     "output_type": "execute_result"
    },
    {
     "data": {
      "image/png": "[encoded data removed]",
      "text/plain": [
       "<matplotlib.figure.Figure at 0x18be02fd400>"
      ]
     },
     "metadata": {},
     "output_type": "display_data"
    }
   ],
   "source": [
    "ax = sns.lmplot(x='height', y='weight', data=df, fit_reg=False)\n",
    "ax.set(xlabel='Height(cm)', ylabel='Weight(kg)')"
   ]
  },
  {
   "cell_type": "code",
   "execution_count": 58,
   "metadata": {},
   "outputs": [
    {
     "data": {
      "text/plain": [
       "Text(0,0.5,'Weight(kg)')"
      ]
     },
     "execution_count": 58,
     "metadata": {},
     "output_type": "execute_result"
    },
    {
     "data": {
      "image/png": "[encoded data removed]",
      "text/plain": [
       "<matplotlib.figure.Figure at 0x18be49f2780>"
      ]
     },
     "metadata": {},
     "output_type": "display_data"
    }
   ],
   "source": [
    "X = np.array(df[['height']])\n",
    "y = np.array(df[['weight']])\n",
    "\n",
    "one = np.ones((X.shape[0], 1))\n",
    "Xbar = np.concatenate((one, X), axis=1)\n",
    "\n",
    "A = np.dot(Xbar.T, Xbar)\n",
    "b = np.dot(Xbar.T, y)\n",
    "\n",
    "w = np.dot(np.linalg.pinv(A), b)\n",
    "w0 = w[0][0]\n",
    "w1 = w[1][0]\n",
    "\n",
    "x0 = np.linspace(145, 185, 2, endpoint=True)\n",
    "\n",
    "y0 = w0 + w1*x0\n",
    "\n",
    "plt.plot(x0, y0, linewidth=2)\n",
    "plt.scatter(x=df['height'], y=df['weight'])\n",
    "plt.xlabel('Height(cm)')\n",
    "plt.ylabel('Weight(kg)')"
   ]
  },
  {
   "cell_type": "code",
   "execution_count": 59,
   "metadata": {},
   "outputs": [
    {
     "name": "stdout",
     "output_type": "stream",
     "text": [
      "Predicted weight of person with height 155cm is 52.941358894844626 and real value is 52\n",
      "Predicted weight of person with height 155cm is 55.73738370454248 and real value is 56\n"
     ]
    }
   ],
   "source": [
    "print('Predicted weight of person with height 155cm is', w0 + w1*155, 'and real value is 52')\n",
    "print('Predicted weight of person with height 155cm is', w0 + w1*160, 'and real value is 56')"
   ]
  },
  {
   "cell_type": "code",
   "execution_count": null,
   "metadata": {},
   "outputs": [],
   "source": []
  },
  {
   "cell_type": "code",
   "execution_count": 61,
   "metadata": {},
   "outputs": [
    {
     "name": "stdout",
     "output_type": "stream",
     "text": [
      "Solution solved by scikit-learn: [[-33.73541021   0.55920496]]\n",
      "Solution found by code: [[-33.73541021   0.55920496]]\n"
     ]
    }
   ],
   "source": [
    "from sklearn import datasets, linear_model\n",
    "\n",
    "regr = linear_model.LinearRegression(fit_intercept=False) # fit for bias\n",
    "regr.fit(Xbar, y)\n",
    "\n",
    "print('Solution solved by scikit-learn:', regr.coef_)\n",
    "print('Solution found by code:', w.T)"
   ]
  },
  {
   "cell_type": "code",
   "execution_count": 42,
   "metadata": {},
   "outputs": [
    {
     "data": {
      "text/plain": [
       "\u001b[1;31mSignature:\u001b[0m \u001b[0mplt\u001b[0m\u001b[1;33m.\u001b[0m\u001b[0mplot\u001b[0m\u001b[1;33m(\u001b[0m\u001b[1;33m*\u001b[0m\u001b[0margs\u001b[0m\u001b[1;33m,\u001b[0m \u001b[1;33m**\u001b[0m\u001b[0mkwargs\u001b[0m\u001b[1;33m)\u001b[0m\u001b[1;33m\u001b[0m\u001b[0m\n",
       "\u001b[1;31mDocstring:\u001b[0m\n",
       "Plot lines and/or markers to the\n",
       ":class:`~matplotlib.axes.Axes`.  *args* is a variable length\n",
       "argument, allowing for multiple *x*, *y* pairs with an\n",
       "optional format string.  For example, each of the following is\n",
       "legal::\n",
       "\n",
       "    plot(x, y)        # plot x and y using default line style and color\n",
       "    plot(x, y, 'bo')  # plot x and y using blue circle markers\n",
       "    plot(y)           # plot y using x as index array 0..N-1\n",
       "    plot(y, 'r+')     # ditto, but with red plusses\n",
       "\n",
       "If *x* and/or *y* is 2-dimensional, then the corresponding columns\n",
       "will be plotted.\n",
       "\n",
       "If used with labeled data, make sure that the color spec is not\n",
       "included as an element in data, as otherwise the last case\n",
       "``plot(\"v\",\"r\", data={\"v\":..., \"r\":...)``\n",
       "can be interpreted as the first case which would do ``plot(v, r)``\n",
       "using the default line style and color.\n",
       "\n",
       "If not used with labeled data (i.e., without a data argument),\n",
       "an arbitrary number of *x*, *y*, *fmt* groups can be specified, as in::\n",
       "\n",
       "    a.plot(x1, y1, 'g^', x2, y2, 'g-')\n",
       "\n",
       "Return value is a list of lines that were added.\n",
       "\n",
       "By default, each line is assigned a different style specified by a\n",
       "'style cycle'.  To change this behavior, you can edit the\n",
       "axes.prop_cycle rcParam.\n",
       "\n",
       "The following format string characters are accepted to control\n",
       "the line style or marker:\n",
       "\n",
       "================    ===============================\n",
       "character           description\n",
       "================    ===============================\n",
       "``'-'``             solid line style\n",
       "``'--'``            dashed line style\n",
       "``'-.'``            dash-dot line style\n",
       "``':'``             dotted line style\n",
       "``'.'``             point marker\n",
       "``','``             pixel marker\n",
       "``'o'``             circle marker\n",
       "``'v'``             triangle_down marker\n",
       "``'^'``             triangle_up marker\n",
       "``'<'``             triangle_left marker\n",
       "``'>'``             triangle_right marker\n",
       "``'1'``             tri_down marker\n",
       "``'2'``             tri_up marker\n",
       "``'3'``             tri_left marker\n",
       "``'4'``             tri_right marker\n",
       "``'s'``             square marker\n",
       "``'p'``             pentagon marker\n",
       "``'*'``             star marker\n",
       "``'h'``             hexagon1 marker\n",
       "``'H'``             hexagon2 marker\n",
       "``'+'``             plus marker\n",
       "``'x'``             x marker\n",
       "``'D'``             diamond marker\n",
       "``'d'``             thin_diamond marker\n",
       "``'|'``             vline marker\n",
       "``'_'``             hline marker\n",
       "================    ===============================\n",
       "\n",
       "\n",
       "The following color abbreviations are supported:\n",
       "\n",
       "==========  ========\n",
       "character   color\n",
       "==========  ========\n",
       "'b'         blue\n",
       "'g'         green\n",
       "'r'         red\n",
       "'c'         cyan\n",
       "'m'         magenta\n",
       "'y'         yellow\n",
       "'k'         black\n",
       "'w'         white\n",
       "==========  ========\n",
       "\n",
       "In addition, you can specify colors in many weird and\n",
       "wonderful ways, including full names (``'green'``), hex\n",
       "strings (``'#008000'``), RGB or RGBA tuples (``(0,1,0,1)``) or\n",
       "grayscale intensities as a string (``'0.8'``).  Of these, the\n",
       "string specifications can be used in place of a ``fmt`` group,\n",
       "but the tuple forms can be used only as ``kwargs``.\n",
       "\n",
       "Line styles and colors are combined in a single format string, as in\n",
       "``'bo'`` for blue circles.\n",
       "\n",
       "The *kwargs* can be used to set line properties (any property that has\n",
       "a ``set_*`` method).  You can use this to set a line label (for auto\n",
       "legends), linewidth, anitialising, marker face color, etc.  Here is an\n",
       "example::\n",
       "\n",
       "    plot([1,2,3], [1,2,3], 'go-', label='line 1', linewidth=2)\n",
       "    plot([1,2,3], [1,4,9], 'rs',  label='line 2')\n",
       "    axis([0, 4, 0, 10])\n",
       "    legend()\n",
       "\n",
       "If you make multiple lines with one plot command, the kwargs\n",
       "apply to all those lines, e.g.::\n",
       "\n",
       "    plot(x1, y1, x2, y2, antialiased=False)\n",
       "\n",
       "Neither line will be antialiased.\n",
       "\n",
       "You do not need to use format strings, which are just\n",
       "abbreviations.  All of the line properties can be controlled\n",
       "by keyword arguments.  For example, you can set the color,\n",
       "marker, linestyle, and markercolor with::\n",
       "\n",
       "    plot(x, y, color='green', linestyle='dashed', marker='o',\n",
       "         markerfacecolor='blue', markersize=12).\n",
       "\n",
       "See :class:`~matplotlib.lines.Line2D` for details.\n",
       "\n",
       "The kwargs are :class:`~matplotlib.lines.Line2D` properties:\n",
       "\n",
       "  agg_filter: a filter function, which takes a (m, n, 3) float array and a dpi value, and returns a (m, n, 3) array \n",
       "  alpha: float (0.0 transparent through 1.0 opaque) \n",
       "  animated: bool \n",
       "  antialiased or aa: [True | False] \n",
       "  clip_box: a `~.Bbox` instance \n",
       "  clip_on: bool \n",
       "  clip_path: [(`~matplotlib.path.Path`, `~.Transform`) | `~.Patch` | None] \n",
       "  color or c: any matplotlib color \n",
       "  contains: a callable function \n",
       "  dash_capstyle: ['butt' | 'round' | 'projecting'] \n",
       "  dash_joinstyle: ['miter' | 'round' | 'bevel'] \n",
       "  dashes: sequence of on/off ink in points \n",
       "  drawstyle: ['default' | 'steps' | 'steps-pre' | 'steps-mid' | 'steps-post'] \n",
       "  figure: a `~.Figure` instance \n",
       "  fillstyle: ['full' | 'left' | 'right' | 'bottom' | 'top' | 'none'] \n",
       "  gid: an id string \n",
       "  label: object \n",
       "  linestyle or ls: ['solid' | 'dashed', 'dashdot', 'dotted' | (offset, on-off-dash-seq) | ``'-'`` | ``'--'`` | ``'-.'`` | ``':'`` | ``'None'`` | ``' '`` | ``''``]\n",
       "  linewidth or lw: float value in points \n",
       "  marker: :mod:`A valid marker style <matplotlib.markers>`\n",
       "  markeredgecolor or mec: any matplotlib color \n",
       "  markeredgewidth or mew: float value in points \n",
       "  markerfacecolor or mfc: any matplotlib color \n",
       "  markerfacecoloralt or mfcalt: any matplotlib color \n",
       "  markersize or ms: float \n",
       "  markevery: [None | int | length-2 tuple of int | slice | list/array of int | float | length-2 tuple of float]\n",
       "  path_effects: `~.AbstractPathEffect` \n",
       "  picker: float distance in points or callable pick function ``fn(artist, event)`` \n",
       "  pickradius: float distance in points\n",
       "  rasterized: bool or None \n",
       "  sketch_params: (scale: float, length: float, randomness: float) \n",
       "  snap: bool or None \n",
       "  solid_capstyle: ['butt' | 'round' |  'projecting'] \n",
       "  solid_joinstyle: ['miter' | 'round' | 'bevel'] \n",
       "  transform: a :class:`matplotlib.transforms.Transform` instance \n",
       "  url: a url string \n",
       "  visible: bool \n",
       "  xdata: 1D array \n",
       "  ydata: 1D array \n",
       "  zorder: float \n",
       "\n",
       "kwargs *scalex* and *scaley*, if defined, are passed on to\n",
       ":meth:`~matplotlib.axes.Axes.autoscale_view` to determine\n",
       "whether the *x* and *y* axes are autoscaled; the default is\n",
       "*True*.\n",
       "\n",
       ".. note::\n",
       "    In addition to the above described arguments, this function can take a\n",
       "    **data** keyword argument. If such a **data** argument is given, the\n",
       "    following arguments are replaced by **data[<arg>]**:\n",
       "\n",
       "    * All arguments with the following names: 'x', 'y'.\n",
       "\u001b[1;31mFile:\u001b[0m      d:\\anaconda\\envs\\py36\\lib\\site-packages\\matplotlib\\pyplot.py\n",
       "\u001b[1;31mType:\u001b[0m      function\n"
      ]
     },
     "metadata": {},
     "output_type": "display_data"
    }
   ],
   "source": [
    "?plt.plot"
   ]
  }
 ],
 "metadata": {
  "kernelspec": {
   "display_name": "Python [conda env:py36]",
   "language": "python",
   "name": "conda-env-py36-py"
  },
  "language_info": {
   "codemirror_mode": {
    "name": "ipython",
    "version": 3
   },
   "file_extension": ".py",
   "mimetype": "text/x-python",
   "name": "python",
   "nbconvert_exporter": "python",
   "pygments_lexer": "ipython3",
   "version": "3.6.3"
  }
 },
 "nbformat": 4,
 "nbformat_minor": 2
}
