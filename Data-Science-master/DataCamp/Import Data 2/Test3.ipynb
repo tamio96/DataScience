{
 "cells": [
  {
   "cell_type": "code",
   "execution_count": 1,
   "metadata": {},
   "outputs": [],
   "source": [
    "from urllib.request import urlretrieve, urlopen, Request\n",
    "import requests\n",
    "from bs4 import BeautifulSoup\n",
    "url = 'https://s3.amazonaws.com/assets.datacamp.com/production/course_1606/datasets/winequality-red.csv'"
   ]
  },
  {
   "cell_type": "code",
   "execution_count": 2,
   "metadata": {},
   "outputs": [
    {
     "name": "stderr",
     "output_type": "stream",
     "text": [
      "D:\\Anaconda2\\envs\\py36\\lib\\site-packages\\statsmodels\\compat\\pandas.py:56: FutureWarning: The pandas.core.datetools module is deprecated and will be removed in a future version. Please use the pandas.tseries module instead.\n",
      "  from pandas.core import datetools\n"
     ]
    }
   ],
   "source": [
    "# Import modules\n",
    "import pandas as pd\n",
    "import matplotlib.pyplot as plt\n",
    "import seaborn as sns\n",
    "import scipy\n",
    "import re\n",
    "import numpy as np\n",
    "import statsmodels.api as sm\n",
    "from sklearn import datasets, linear_model\n",
    "from sklearn.model_selection import train_test_split\n",
    "from sklearn.linear_model import LogisticRegression\n",
    "from sklearn.model_selection import GridSearchCV\n",
    "from sklearn.feature_selection import RFE\n",
    "from sklearn.linear_model import LogisticRegression\n",
    "\n",
    "# Figures inline and set visualization style\n",
    "%matplotlib inline\n",
    "sns.set()"
   ]
  },
  {
   "cell_type": "code",
   "execution_count": 3,
   "metadata": {},
   "outputs": [
    {
     "name": "stdout",
     "output_type": "stream",
     "text": [
      "   fixed acidity  volatile acidity  citric acid  residual sugar  chlorides  \\\n",
      "0            7.4              0.70         0.00             1.9      0.076   \n",
      "1            7.8              0.88         0.00             2.6      0.098   \n",
      "2            7.8              0.76         0.04             2.3      0.092   \n",
      "3           11.2              0.28         0.56             1.9      0.075   \n",
      "4            7.4              0.70         0.00             1.9      0.076   \n",
      "\n",
      "   free sulfur dioxide  total sulfur dioxide  density    pH  sulphates  \\\n",
      "0                 11.0                  34.0   0.9978  3.51       0.56   \n",
      "1                 25.0                  67.0   0.9968  3.20       0.68   \n",
      "2                 15.0                  54.0   0.9970  3.26       0.65   \n",
      "3                 17.0                  60.0   0.9980  3.16       0.58   \n",
      "4                 11.0                  34.0   0.9978  3.51       0.56   \n",
      "\n",
      "   alcohol  quality  \n",
      "0      9.4        5  \n",
      "1      9.8        5  \n",
      "2      9.8        5  \n",
      "3      9.8        6  \n",
      "4      9.4        5  \n"
     ]
    }
   ],
   "source": [
    "# Import modules\n",
    "import pandas as pd\n",
    "import matplotlib.pyplot as plt\n",
    "import seaborn as sns\n",
    "import scipy\n",
    "import re\n",
    "import numpy as np\n",
    "import statsmodels.api as sm\n",
    "from sklearn import datasets, linear_model\n",
    "from sklearn.model_selection import train_test_split\n",
    "from sklearn.linear_model import LogisticRegression\n",
    "from sklearn.model_selection import GridSearchCV\n",
    "from sklearn.feature_selection import RFE\n",
    "from sklearn.linear_model import LogisticRegression\n",
    "\n",
    "# Figures inline and set visualization style\n",
    "%matplotlib inline\n",
    "sns.set()\n",
    "\n",
    "df = pd.read_csv('winequality-red.csv', sep=';')\n",
    "print(df.head())"
   ]
  },
  {
   "cell_type": "code",
   "execution_count": 10,
   "metadata": {},
   "outputs": [
    {
     "data": {
      "image/png": "[encoded data removed]",
      "text/plain": [
       "<matplotlib.figure.Figure at 0x22a2f07ba90>"
      ]
     },
     "metadata": {},
     "output_type": "display_data"
    }
   ],
   "source": [
    "plt.hist(df['fixed acidity'])\n",
    "plt.show()"
   ]
  },
  {
   "cell_type": "code",
   "execution_count": 2,
   "metadata": {},
   "outputs": [],
   "source": [
    "url = 'http://www.datacamp.com/teach/documentation'\n",
    "request = Request(url)\n",
    "response = urlopen(request)\n",
    "html = response.read()\n",
    "\n",
    "response.close()"
   ]
  },
  {
   "cell_type": "code",
   "execution_count": 5,
   "metadata": {},
   "outputs": [
    {
     "name": "stdout",
     "output_type": "stream",
     "text": [
      "<title>Welcome · Authoring Content for DataCamp</title>\n"
     ]
    },
    {
     "name": "stderr",
     "output_type": "stream",
     "text": [
      "D:\\Anaconda2\\envs\\py36\\lib\\site-packages\\bs4\\__init__.py:181: UserWarning: No parser was explicitly specified, so I'm using the best available HTML parser for this system (\"html.parser\"). This usually isn't a problem, but if you run this code on another system, or in a different virtual environment, it may use a different parser and behave differently.\n",
      "\n",
      "The code that caused this warning is on line 193 of the file D:\\Anaconda2\\envs\\py36\\lib\\runpy.py. To get rid of this warning, change code that looks like this:\n",
      "\n",
      " BeautifulSoup(YOUR_MARKUP})\n",
      "\n",
      "to this:\n",
      "\n",
      " BeautifulSoup(YOUR_MARKUP, \"html.parser\")\n",
      "\n",
      "  markup_type=markup_type))\n"
     ]
    }
   ],
   "source": [
    "url = 'http://www.datacamp.com/teach/documentation'\n",
    "r = requests.get(url)\n",
    "\n",
    "soup = BeautifulSoup(r.text)\n",
    "print(soup.title)"
   ]
  },
  {
   "cell_type": "code",
   "execution_count": 12,
   "metadata": {},
   "outputs": [
    {
     "name": "stdout",
     "output_type": "stream",
     "text": [
      "<title>Welcome · Authoring Content for DataCamp</title>\n",
      "<class 'bs4.element.ResultSet'>\n",
      "./\n",
      "welcome/getting-started.html\n",
      "courses/\n",
      "courses/repo-structure.html\n",
      "courses/exercises/\n",
      "courses/exercises/video-exercise.html\n",
      "courses/exercises/normal-exercise.html\n",
      "courses/exercises/multiple-choice-exercise.html\n",
      "courses/exercises/tab-exercise.html\n",
      "courses/exercises/examples/md/sql/TabExercise.html\n",
      "courses/exercises/examples/md/r/TabExercise.html\n",
      "courses/exercises/examples/md/python/TabExercise.html\n",
      "courses/exercises/bullet-exercise.html\n",
      "courses/exercises/examples/md/sql/BulletExercise.html\n",
      "courses/exercises/examples/md/r/BulletExercise.html\n",
      "courses/exercises/examples/md/python/BulletExercise.html\n",
      "courses/xp.html\n",
      "courses/assets.html\n",
      "courses/slides.html\n",
      "courses/guides/\n",
      "courses/guides/content.html\n",
      "courses/guides/style.html\n",
      "courses/guides/exports.html\n",
      "courses/guides/unified-authoring-api.html\n",
      "courses/guides/tab-vs-bullet-exercises.html\n",
      "courses/design/\n",
      "courses/design/template.html\n",
      "courses/design/technical-help-resources.html\n",
      "courses/design/brainstorming-problems.html\n",
      "courses/design/brainstorming-concepts.html\n",
      "courses/design/brainstorming-technologies.html\n",
      "courses/design/brainstorming-jargon.html\n",
      "courses/design/brainstorming-analogies.html\n",
      "courses/design/brainstorming-mistakes.html\n",
      "courses/design/brainstorming-datasets.html\n",
      "courses/design/personas.html\n",
      "courses/design/choose-learner-personas.html\n",
      "courses/design/exercises-capstone.html\n",
      "courses/design/exercises-examples.html\n",
      "courses/design/lesson-flow.html\n",
      "courses/design/overview-description.html\n",
      "courses/design/overview-objectives.html\n",
      "courses/design/overview-prerequisites.html\n",
      "faq/\n",
      "challenges/\n",
      "challenges/repo-structure.html\n",
      "challenges/content/\n",
      "challenges/content/output-challenge.html\n",
      "challenges/content/multiple-choice-challenge.html\n",
      "challenges/content/blanks-challenge.html\n",
      "challenges/review-mode.html\n",
      "challenges/guides/\n",
      "challenges/guides/content.html\n",
      "challenges/guides/style.html\n",
      "projects/\n",
      "projects/projects-process.html\n",
      "projects/projects-format.html\n",
      "projects/projects-format.html#overview\n",
      "projects/projects-format.html#notebooktask\n",
      "projects/projects-format.html#context\n",
      "projects/projects-format.html#instructions\n",
      "projects/projects-format.html#hint\n",
      "projects/projects-format.html#sample-code\n",
      "projects/projects-format.html#solution\n",
      "projects/projects-format.html#tests\n",
      "projects/projects-test-examples.html\n",
      "projects/projects-repo-structure.html\n",
      "projects/projects-enforced-guidelines.html\n",
      "mobile/\n",
      "mobile/development.html\n",
      "mobile/repo-structure.html\n",
      "mobile/authoring.html\n",
      "mobile/exercises/\n",
      "mobile/exercises/select-output.html\n",
      "mobile/exercises/select-table.html\n",
      "mobile/exercises/select-code.html\n",
      "mobile/exercises/tap.html\n",
      "mobile/exercises/multiple-choice.html\n",
      "mobile/exercises/reorder.html\n",
      "interface/dashboard.html\n",
      "interface/create-content-dialog.html\n",
      "interface/content-overview.html\n",
      "interface/teach-editor.html\n",
      "courses/audition.html\n",
      "courses/design/\n",
      "courses/design/template.html\n",
      "courses/design/personas.html\n",
      "premium-course-process.html\n",
      "premium-course-process.html#course-specs\n",
      "premium-course-process.html#exercises\n",
      "premium-course-process.html#slides-scripts\n",
      "premium-course-process.html#screencasts\n",
      "premium-course-process.html#videos\n",
      "premium-course-process.html#review-release\n",
      "premium-course-process.html#monitor-maintain\n",
      "https://www.gitbook.com\n",
      ".\n",
      "https://www.datacamp.com/community/\n",
      "mailto:support@datacamp.com\n",
      "https://www.datacamp.com/\n",
      "https://www.datacamp.com/create/\n",
      "https://www.datacamp.com/courses/intro-to-sql-for-data-science\n",
      "https://campus.datacamp.com/courses/intro-to-sql-for-data-science/filtering-rows?ex=3\n",
      "courses/\n",
      "https://challenges.datacamp.com/practice/300\n",
      "https://www.datacamp.com/courses/pandas-foundations\n",
      "https://challenges.datacamp.com/practice/300\n",
      "mailto:spencer@datacamp.com\n",
      "challenges/\n",
      "https://www.datacamp.com/projects/20\n",
      "https://projects.datacamp.com/projects/20\n",
      "mailto:rasmus@datacamp.com\n",
      "projects/\n",
      "https://play.google.com/store/apps/details?id=com.datacamp\n",
      "https://itunes.apple.com/us/app/datacamp-learn-r-python/id1263413087\n",
      "mailto:spencer@datacamp.com\n",
      "projects/\n",
      "welcome/getting-started.html\n"
     ]
    }
   ],
   "source": [
    "print(soup.title)\n",
    "# print(soup.get_text)\n",
    "\n",
    "a_tags = soup.find_all('a')\n",
    "print(type(a_tags))\n",
    "\n",
    "for link in a_tags:\n",
    "    print(link.get('href'))"
   ]
  },
  {
   "cell_type": "code",
   "execution_count": 5,
   "metadata": {},
   "outputs": [
    {
     "name": "stdout",
     "output_type": "stream",
     "text": [
      "<class 'dict'>\n",
      "The Social Network\n",
      "2010\n",
      "PG-13\n",
      "01 Oct 2010\n",
      "120 min\n",
      "Biography, Drama\n",
      "David Fincher\n",
      "Aaron Sorkin (screenplay), Ben Mezrich (book)\n",
      "Jesse Eisenberg, Rooney Mara, Bryan Barter, Dustin Fitzsimons\n",
      "Harvard student Mark Zuckerberg creates the social networking site that would become known as Facebook, but is later sued by two brothers who claimed he stole their idea, and the co-founder who was later squeezed out of the business.\n",
      "English, French\n",
      "USA\n",
      "Won 3 Oscars. Another 165 wins & 168 nominations.\n",
      "https://images-na.ssl-images-amazon.com/images/M/MV5BMTM2ODk0NDAwMF5BMl5BanBnXkFtZTcwNTM1MDc2Mw@@._V1_SX300.jpg\n",
      "[{'Source': 'Internet Movie Database', 'Value': '7.7/10'}, {'Source': 'Rotten Tomatoes', 'Value': '96%'}, {'Source': 'Metacritic', 'Value': '95/100'}]\n",
      "95\n",
      "7.7\n",
      "534,436\n",
      "tt1285016\n",
      "movie\n",
      "11 Jan 2011\n",
      "$96,400,000\n",
      "Columbia Pictures\n",
      "http://www.thesocialnetwork-movie.com/\n",
      "True\n"
     ]
    }
   ],
   "source": [
    "r = requests.get('http://www.omdbapi.com/?apikey=ff21610b&t=social+network')\n",
    "json_data = r.json()\n",
    "print(type(json_data))\n",
    "\n",
    "for k in json_data.keys():\n",
    "    print(json_data[k])"
   ]
  },
  {
   "cell_type": "code",
   "execution_count": null,
   "metadata": {},
   "outputs": [],
   "source": []
  }
 ],
 "metadata": {
  "kernelspec": {
   "display_name": "Python [conda env:py36]",
   "language": "python",
   "name": "conda-env-py36-py"
  },
  "language_info": {
   "codemirror_mode": {
    "name": "ipython",
    "version": 3
   },
   "file_extension": ".py",
   "mimetype": "text/x-python",
   "name": "python",
   "nbconvert_exporter": "python",
   "pygments_lexer": "ipython3",
   "version": "3.6.3"
  }
 },
 "nbformat": 4,
 "nbformat_minor": 2
}
