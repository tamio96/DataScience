{
 "cells": [
  {
   "cell_type": "code",
   "execution_count": 3,
   "metadata": {},
   "outputs": [
    {
     "name": "stdout",
     "output_type": "stream",
     "text": [
      "jay garrick\n"
     ]
    }
   ],
   "source": [
    "flash = ['jay garrick', 'barry allen', 'wally west', 'bart allen']\n",
    "\n",
    "it = iter(flash)\n",
    "print(next(it))"
   ]
  },
  {
   "cell_type": "code",
   "execution_count": 6,
   "metadata": {},
   "outputs": [
    {
     "name": "stdout",
     "output_type": "stream",
     "text": [
      "0\n",
      "1\n"
     ]
    }
   ],
   "source": [
    "small_value = iter(range(3))\n",
    "\n",
    "print(next(small_value))\n",
    "print(next(small_value))"
   ]
  },
  {
   "cell_type": "code",
   "execution_count": 19,
   "metadata": {},
   "outputs": [
    {
     "name": "stdout",
     "output_type": "stream",
     "text": [
      "(1, 'charles xavier')\n"
     ]
    }
   ],
   "source": [
    "mutants = ['charles xavier', \n",
    "            'bobby drake', \n",
    "            'kurt wagner', \n",
    "            'max eisenhardt', \n",
    "            'kitty pride']\n",
    "\n",
    "it_enum = iter(enumerate(mutants, start=1))\n",
    "print(next(it_enum))"
   ]
  },
  {
   "cell_type": "code",
   "execution_count": 14,
   "metadata": {},
   "outputs": [
    {
     "name": "stdout",
     "output_type": "stream",
     "text": [
      "('charles xavier', 'CX')\n"
     ]
    }
   ],
   "source": [
    "mutants = ['charles xavier', \n",
    "            'bobby drake', \n",
    "            'kurt wagner', \n",
    "            'max eisenhardt', \n",
    "            'kitty pride']\n",
    "aliases = ['CX', 'BD', 'KW', 'ME', 'KP']\n",
    "mutant_zip = zip(mutants, aliases)\n",
    "it_zip = iter(mutant_zip)\n",
    "print(next(it_zip))"
   ]
  },
  {
   "cell_type": "code",
   "execution_count": 18,
   "metadata": {},
   "outputs": [
    {
     "name": "stdout",
     "output_type": "stream",
     "text": [
      "True\n"
     ]
    }
   ],
   "source": [
    "mutants = ['charles xavier', \n",
    "            'bobby drake', \n",
    "            'kurt wagner', \n",
    "            'max eisenhardt', \n",
    "            'kitty pride']\n",
    "aliases = ['CX', 'BD', 'KW', 'ME', 'KP']\n",
    "mutant_zip = zip(mutants, aliases)\n",
    "result1, result2 = zip(*mutant_zip)\n",
    "print(list(result1) == mutants)"
   ]
  },
  {
   "cell_type": "code",
   "execution_count": 3,
   "metadata": {},
   "outputs": [
    {
     "name": "stdout",
     "output_type": "stream",
     "text": [
      "{'et': 1, 'en': 97, 'und': 2}\n"
     ]
    }
   ],
   "source": [
    "import pandas as pd\n",
    "\n",
    "count_dict = {}\n",
    "\n",
    "for chunk in pd.read_csv('tweets.csv', chunksize=10):\n",
    "    \n",
    "    for entry in chunk['lang']:\n",
    "        if entry in count_dict.keys():\n",
    "            count_dict[entry] += 1\n",
    "        else:\n",
    "            count_dict[entry] = 1\n",
    "\n",
    "print(count_dict)"
   ]
  },
  {
   "cell_type": "code",
   "execution_count": 5,
   "metadata": {},
   "outputs": [
    {
     "name": "stdout",
     "output_type": "stream",
     "text": [
      "{'et': 1, 'en': 97, 'und': 2}\n"
     ]
    }
   ],
   "source": [
    "def count_entries(csv_file, c_size, col_name):\n",
    "    count_dict = {}\n",
    "    \n",
    "    for chunk in pd.read_csv(csv_file, chunksize=c_size):\n",
    "        \n",
    "        for entry in chunk[col_name]:\n",
    "            if entry in count_dict.keys():\n",
    "                count_dict[entry] += 1\n",
    "            else:\n",
    "                count_dict[entry] = 1\n",
    "            \n",
    "    return count_dict\n",
    "\n",
    "result_counts = count_entries('tweets.csv', 10, 'lang')\n",
    "print(result_counts)"
   ]
  },
  {
   "cell_type": "code",
   "execution_count": 7,
   "metadata": {},
   "outputs": [
    {
     "name": "stdout",
     "output_type": "stream",
     "text": [
      "['h', 'c', 'c', 't', 'w']\n"
     ]
    }
   ],
   "source": [
    "doctor = ['house', 'cuddy', 'chase', 'thirteen', 'wilson']\n",
    "print([doc[0] for doc in doctor])"
   ]
  },
  {
   "cell_type": "code",
   "execution_count": 9,
   "metadata": {},
   "outputs": [
    {
     "data": {
      "text/plain": [
       "[[0, 1, 2, 3, 4],\n",
       " [0, 1, 2, 3, 4],\n",
       " [0, 1, 2, 3, 4],\n",
       " [0, 1, 2, 3, 4],\n",
       " [0, 1, 2, 3, 4]]"
      ]
     },
     "execution_count": 9,
     "metadata": {},
     "output_type": "execute_result"
    }
   ],
   "source": [
    "[[col for col in range(5)] for row in range(5)]"
   ]
  },
  {
   "cell_type": "code",
   "execution_count": 12,
   "metadata": {},
   "outputs": [
    {
     "name": "stdout",
     "output_type": "stream",
     "text": [
      "['', 'samwise', '', 'aragorn', 'legolas', 'boromir', '']\n"
     ]
    }
   ],
   "source": [
    "fellowship = ['frodo', 'samwise', 'merry', 'aragorn', 'legolas', 'boromir', 'gimli']\n",
    "\n",
    "new_fellowship = [member if len(member) > 6 else '' for member in fellowship]\n",
    "\n",
    "print(new_fellowship)"
   ]
  },
  {
   "cell_type": "code",
   "execution_count": 14,
   "metadata": {},
   "outputs": [
    {
     "name": "stdout",
     "output_type": "stream",
     "text": [
      "{'aragorn': 7, 'frodo': 5, 'samwise': 7, 'merry': 5, 'gimli': 5, 'boromir': 7, 'legolas': 7}\n"
     ]
    }
   ],
   "source": [
    "fellowship = ['frodo', 'samwise', 'merry', 'aragorn', 'legolas', 'boromir', 'gimli']\n",
    "\n",
    "len_fellow = {member: len(member) for member in fellowship}\n",
    "\n",
    "print(len_fellow)"
   ]
  },
  {
   "cell_type": "code",
   "execution_count": 21,
   "metadata": {},
   "outputs": [
    {
     "name": "stdout",
     "output_type": "stream",
     "text": [
      "frodo\n"
     ]
    }
   ],
   "source": [
    "gen_fellow = (member for member in fellowship)\n",
    "print(next(gen_fellow))"
   ]
  },
  {
   "cell_type": "code",
   "execution_count": 23,
   "metadata": {},
   "outputs": [
    {
     "name": "stdout",
     "output_type": "stream",
     "text": [
      "5\n"
     ]
    }
   ],
   "source": [
    "def gen_fellow(input_list):\n",
    "    \"\"\"Generator that yields length of input_list\"\"\"\n",
    "    for member in input_list:\n",
    "        yield len(member)\n",
    "        \n",
    "gen_instance = gen_fellow(fellowship)\n",
    "print(next(gen_instance))"
   ]
  },
  {
   "cell_type": "code",
   "execution_count": 36,
   "metadata": {},
   "outputs": [
    {
     "data": {
      "text/plain": [
       "['23:40:17',\n",
       " '23:40:17',\n",
       " '23:40:17',\n",
       " '23:40:17',\n",
       " '23:40:17',\n",
       " '23:40:17',\n",
       " '23:40:17',\n",
       " '23:40:17',\n",
       " '23:40:17',\n",
       " '23:40:17',\n",
       " '23:40:17',\n",
       " '23:40:17',\n",
       " '23:40:17']"
      ]
     },
     "execution_count": 36,
     "metadata": {},
     "output_type": "execute_result"
    }
   ],
   "source": [
    "df = pd.read_csv('tweets.csv')\n",
    "[entry[11:19] for entry in df['created_at'] if entry[17:19] == '17']"
   ]
  },
  {
   "cell_type": "code",
   "execution_count": 50,
   "metadata": {},
   "outputs": [
    {
     "name": "stdout",
     "output_type": "stream",
     "text": [
      "{'CountryCode': 'ARB', 'Value': '133.56090740552298', 'CountryName': 'Arab World', 'IndicatorName': 'Adolescent fertility rate (births per 1,000 women ages 15-19)', 'IndicatorCode': 'SP.ADO.TFRT', 'Year': '1960'}\n"
     ]
    }
   ],
   "source": [
    "feature_names = ['CountryName', 'CountryCode', 'IndicatorName', 'IndicatorCode', 'Year', 'Value']\n",
    "row_vals = ['Arab World', 'ARB', 'Adolescent fertility rate (births per 1,000 women ages 15-19)', 'SP.ADO.TFRT', '1960', '133.56090740552298']\n",
    "def lists2dict(list1, list2):\n",
    "    dict_zip = zip(feature_names, row_vals)\n",
    "    return dict(dict_zip)\n",
    "\n",
    "rs_fxn = lists2dict(feature_names, row_vals)\n",
    "print(rs_fxn)"
   ]
  },
  {
   "cell_type": "code",
   "execution_count": 47,
   "metadata": {},
   "outputs": [
    {
     "name": "stdout",
     "output_type": "stream",
     "text": [
      "{'CountryCode': 'ARB', 'Value': '133.56090740552298', 'CountryName': 'Arab World', 'IndicatorName': 'Adolescent fertility rate (births per 1,000 women ages 15-19)', 'IndicatorCode': 'SP.ADO.TFRT', 'Year': '1960'}\n"
     ]
    }
   ],
   "source": [
    "row_lists = [['Arab World', 'ARB', 'Adolescent fertility rate (births per 1,000 women ages 15-19)', 'SP.ADO.TFRT', '1960', '133.56090740552298'], \n",
    "             ['Arab World', 'ARB', 'Age dependency ratio (% of working-age population)', 'SP.POP.DPND', '1960', '87.7976011532547'], \n",
    "             ['Arab World', 'ARB', 'Age dependency ratio, old (% of working-age population)', 'SP.POP.DPND.OL', '1960', '6.634579191565161'], \n",
    "             ['Arab World', 'ARB', 'Age dependency ratio, young (% of working-age population)', 'SP.POP.DPND.YG', '1960', '81.02332950839141'], \n",
    "             ['Arab World', 'ARB', 'Arms exports (SIPRI trend indicator values)', 'MS.MIL.XPRT.KD', '1960', '3000000.0'], \n",
    "             ['Arab World', 'ARB', 'Arms imports (SIPRI trend indicator values)', 'MS.MIL.MPRT.KD', '1960', '538000000.0'], \n",
    "             ['Arab World', 'ARB', 'Birth rate, crude (per 1,000 people)', 'SP.DYN.CBRT.IN', '1960', '47.697888095096395'], \n",
    "             ['Arab World', 'ARB', 'CO2 emissions (kt)', 'EN.ATM.CO2E.KT', '1960', '59563.9892169935'], \n",
    "             ['Arab World', 'ARB', 'CO2 emissions (metric tons per capita)', 'EN.ATM.CO2E.PC', '1960', '0.6439635478877049'], \n",
    "             ['Arab World', 'ARB', 'CO2 emissions from gaseous fuel consumption (% of total)', 'EN.ATM.CO2E.GF.ZS', '1960', '5.041291753975099'], \n",
    "             ['Arab World', 'ARB', 'CO2 emissions from liquid fuel consumption (% of total)', 'EN.ATM.CO2E.LF.ZS', '1960', '84.8514729446567'], \n",
    "             ['Arab World', 'ARB', 'CO2 emissions from liquid fuel consumption (kt)', 'EN.ATM.CO2E.LF.KT', '1960', '49541.707291032304'], \n",
    "             ['Arab World', 'ARB', 'CO2 emissions from solid fuel consumption (% of total)', 'EN.ATM.CO2E.SF.ZS', '1960', '4.72698138789597'], \n",
    "             ['Arab World', 'ARB', 'Death rate, crude (per 1,000 people)', 'SP.DYN.CDRT.IN', '1960', '19.7544519237187'], ['Arab World', 'ARB', 'Fertility rate, total (births per woman)', 'SP.DYN.TFRT.IN', '1960', '6.92402738655897'], \n",
    "             ['Arab World', 'ARB', 'Fixed telephone subscriptions', 'IT.MLT.MAIN', '1960', '406833.0'], \n",
    "             ['Arab World', 'ARB', 'Fixed telephone subscriptions (per 100 people)', 'IT.MLT.MAIN.P2', '1960', '0.6167005703199'], \n",
    "             ['Arab World', 'ARB', 'Hospital beds (per 1,000 people)', 'SH.MED.BEDS.ZS', '1960', '1.9296220724398703'], \n",
    "             ['Arab World', 'ARB', 'International migrant stock (% of population)', 'SM.POP.TOTL.ZS', '1960', '2.9906371279862403'], \n",
    "             ['Arab World', 'ARB', 'International migrant stock, total', 'SM.POP.TOTL', '1960', '3324685.0']]\n",
    "\n",
    "list_of_dicts = [lists2dict(feature_names, row_val) for row_val in row_vals]\n",
    "print(list_of_dicts[0])"
   ]
  },
  {
   "cell_type": "code",
   "execution_count": 48,
   "metadata": {},
   "outputs": [
    {
     "name": "stdout",
     "output_type": "stream",
     "text": [
      "  CountryCode CountryName IndicatorCode  \\\n",
      "0         ARB  Arab World   SP.ADO.TFRT   \n",
      "1         ARB  Arab World   SP.ADO.TFRT   \n",
      "2         ARB  Arab World   SP.ADO.TFRT   \n",
      "3         ARB  Arab World   SP.ADO.TFRT   \n",
      "4         ARB  Arab World   SP.ADO.TFRT   \n",
      "\n",
      "                                       IndicatorName               Value  Year  \n",
      "0  Adolescent fertility rate (births per 1,000 wo...  133.56090740552298  1960  \n",
      "1  Adolescent fertility rate (births per 1,000 wo...  133.56090740552298  1960  \n",
      "2  Adolescent fertility rate (births per 1,000 wo...  133.56090740552298  1960  \n",
      "3  Adolescent fertility rate (births per 1,000 wo...  133.56090740552298  1960  \n",
      "4  Adolescent fertility rate (births per 1,000 wo...  133.56090740552298  1960  \n"
     ]
    }
   ],
   "source": [
    "df = pd.DataFrame(list_of_dicts)\n",
    "print(df.head())"
   ]
  },
  {
   "cell_type": "code",
   "execution_count": 24,
   "metadata": {},
   "outputs": [
    {
     "name": "stdout",
     "output_type": "stream",
     "text": [
      "{'Canada': 4, 'Sao Tome and Principe': 4, 'Turkmenistan': 4, 'Lao PDR': 4, 'Arab World': 5, 'Latin America & Caribbean (all income levels)': 5, 'Cambodia': 4, 'Ethiopia': 4, 'OECD members': 5, 'Swaziland': 4, 'South Asia': 5, 'Argentina': 4, 'Bolivia': 4, 'Cameroon': 4, 'Burkina Faso': 4, 'Bahrain': 4, 'Saudi Arabia': 4, '\"Egypt': 4, 'Japan': 4, 'Channel Islands': 4, 'American Samoa': 4, 'Northern Mariana Islands': 4, 'Slovenia': 4, 'Guatemala': 4, 'Bosnia and Herzegovina': 4, 'Kuwait': 4, 'Russian Federation': 4, 'World': 4, 'St. Lucia': 4, 'Dominica': 4, 'Liberia': 4, 'Maldives': 4, 'East Asia & Pacific (all income levels)': 5, 'Virgin Islands (U.S.)': 4, 'Lithuania': 4, 'Tanzania': 4, 'Vietnam': 4, 'Cabo Verde': 4, 'Greenland': 4, 'Gabon': 4, 'Monaco': 4, 'New Zealand': 4, 'Spain': 4, 'European Union': 5, '\"Venezuela': 4, 'Jamaica': 4, 'Albania': 4, 'Samoa': 4, 'Slovak Republic': 4, 'United Arab Emirates': 4, 'Guam': 4, 'India': 4, 'Azerbaijan': 4, 'Lesotho': 4, 'Aruba': 4, 'Upper middle income': 5, 'Tajikistan': 4, 'Pacific island small states': 5, 'Turkey': 4, 'Afghanistan': 4, 'Bangladesh': 4, 'Mauritania': 4, 'Solomon Islands': 4, 'Turks and Caicos Islands': 4, 'San Marino': 4, 'French Polynesia': 4, 'France': 4, 'Syrian Arab Republic': 4, 'Bermuda': 4, 'Somalia': 4, 'Peru': 4, 'Vanuatu': 4, 'Nigeria': 4, 'Seychelles': 4, 'Norway': 4, \"Cote d'Ivoire\": 4, 'Europe & Central Asia (developing only)': 5, 'Benin': 4, '\"Macao SAR': 4, 'Other small states': 5, '\"Gambia': 4, 'Cuba': 4, 'Montenegro': 4, 'Low & middle income': 5, 'Togo': 4, 'China': 4, 'Armenia': 4, 'Timor-Leste': 4, 'Dominican Republic': 4, '\"Hong Kong SAR': 4, 'Ukraine': 4, 'Ghana': 4, 'Tonga': 4, 'Finland': 4, 'Latin America & Caribbean (developing only)': 5, 'High income': 5, 'Libya': 4, 'Cayman Islands': 4, 'Central African Republic': 4, 'Europe & Central Asia (all income levels)': 5, 'North America': 5, 'Liechtenstein': 4, 'Belarus': 4, 'Kenya': 4, 'Sweden': 4, 'Bulgaria': 4, 'Mauritius': 4, 'Romania': 4, 'Angola': 4, 'Central Europe and the Baltics': 5, 'Chad': 4, 'South Africa': 4, 'St. Vincent and the Grenadines': 4, 'Fiji': 4, 'Caribbean small states': 5, 'Brunei Darussalam': 4, 'Qatar': 4, 'Middle income': 5, 'Austria': 4, 'High income: OECD': 5, 'Mozambique': 4, 'Uganda': 4, 'Kyrgyz Republic': 4, 'Hungary': 4, 'Niger': 4, 'Isle of Man': 4, 'United States': 4, 'Brazil': 4, 'Middle East & North Africa (all income levels)': 5, 'Guinea': 4, 'Panama': 4, 'Mali': 4, 'Costa Rica': 4, 'Luxembourg': 4, 'Andorra': 4, 'Euro area': 5, 'Ireland': 4, 'Pakistan': 4, 'Palau': 4, 'Faeroe Islands': 4, 'Lower middle income': 5, 'Ecuador': 4, 'Czech Republic': 4, 'Australia': 4, 'Algeria': 4, 'El Salvador': 4, 'Tuvalu': 4, 'St. Kitts and Nevis': 4, 'Jordan': 4, 'Marshall Islands': 4, 'Chile': 4, 'Puerto Rico': 4, 'Belgium': 4, 'Kiribati': 4, 'Haiti': 4, 'Belize': 4, 'Fragile and conflict affected situations': 5, 'Sierra Leone': 4, 'Georgia': 4, '\"Yemen': 4, 'East Asia & Pacific (developing only)': 5, 'Denmark': 4, 'Philippines': 4, 'Moldova': 4, 'Morocco': 4, 'Croatia': 4, 'Mongolia': 4, 'Guinea-Bissau': 4, 'Thailand': 4, 'Switzerland': 4, 'Grenada': 4, 'Iraq': 4, 'Portugal': 4, 'Estonia': 4, 'Uruguay': 4, 'Mexico': 4, 'Lebanon': 4, '\"Congo': 8, 'Uzbekistan': 4, 'Djibouti': 4, 'Rwanda': 4, 'Antigua and Barbuda': 4, 'Low income': 5, 'Colombia': 4, 'Burundi': 4, 'Least developed countries: UN classification': 5, 'Cyprus': 4, 'Barbados': 4, 'Madagascar': 4, 'Italy': 4, 'Curacao': 4, 'Bhutan': 4, 'Sudan': 4, 'Sub-Saharan Africa (developing only)': 5, 'Malta': 4, '\"Micronesia': 4, 'Netherlands': 4, '\"Bahamas': 4, '\"Macedonia': 4, 'Middle East & North Africa (developing only)': 5, 'Israel': 4, 'Indonesia': 4, 'Malaysia': 4, 'Iceland': 4, 'Zambia': 4, 'Sub-Saharan Africa (all income levels)': 5, 'Senegal': 4, 'Papua New Guinea': 4, 'Malawi': 4, 'Suriname': 4, 'Trinidad and Tobago': 4, 'Zimbabwe': 4, 'Germany': 4, 'Oman': 4, 'Kazakhstan': 4, 'Poland': 4, '\"Iran': 4, 'Eritrea': 4, 'Small states': 5, 'New Caledonia': 4, 'Sri Lanka': 4, 'Latvia': 4, 'South Sudan': 4, '\"Korea': 8, 'Guyana': 4, 'Nepal': 4, 'Honduras': 4, 'Myanmar': 4, 'Equatorial Guinea': 4, 'Tunisia': 4, 'Nicaragua': 4, 'Singapore': 4, 'Botswana': 4, 'United Kingdom': 4, 'High income: nonOECD': 5, 'Greece': 4, 'Paraguay': 4, 'Namibia': 4, 'Comoros': 4, 'Heavily indebted poor countries (HIPC)': 5}\n"
     ]
    }
   ],
   "source": [
    "feature_names = ['CountryName', 'CountryCode', 'IndicatorName', 'IndicatorCode', 'Year', 'Value']\n",
    "with open('world_dev_ind.csv') as file:\n",
    "    file.readline()\n",
    "    \n",
    "    count_dict = {}\n",
    "    \n",
    "    for i in range(1000):\n",
    "        line = file.readline().split(',')\n",
    "        \n",
    "        first_col = line[0]\n",
    "        \n",
    "        if first_col in count_dict.keys():\n",
    "            count_dict[first_col] += 1\n",
    "        else:\n",
    "            count_dict[first_col] = 1\n",
    "\n",
    "print(count_dict)"
   ]
  },
  {
   "cell_type": "code",
   "execution_count": 31,
   "metadata": {},
   "outputs": [
    {
     "name": "stdout",
     "output_type": "stream",
     "text": [
      "{'Canada': 55, 'Sao Tome and Principe': 55, 'Turkmenistan': 55, 'Lao PDR': 55, 'Arab World': 55, 'Latin America & Caribbean (all income levels)': 55, 'Cambodia': 55, 'Switzerland': 55, 'Ethiopia': 55, 'OECD members': 55, 'Swaziland': 55, 'South Asia': 55, 'Argentina': 55, 'Bolivia': 55, 'Bahamas, The': 55, 'Burkina Faso': 55, 'Bahrain': 55, 'Saudi Arabia': 55, 'Japan': 55, 'Channel Islands': 55, 'American Samoa': 55, 'Northern Mariana Islands': 55, 'Slovenia': 55, 'Guatemala': 55, 'Bosnia and Herzegovina': 55, 'Kuwait': 52, 'Russian Federation': 55, 'World': 55, 'St. Lucia': 55, 'Congo, Rep.': 55, 'Dominica': 55, 'Liberia': 55, 'Maldives': 55, 'East Asia & Pacific (all income levels)': 55, 'Virgin Islands (U.S.)': 55, 'Lithuania': 55, 'Tanzania': 55, 'Vietnam': 55, 'Cabo Verde': 55, 'Greenland': 55, 'Gabon': 55, 'Monaco': 55, 'New Zealand': 55, 'Spain': 55, 'European Union': 55, 'Jamaica': 55, 'Albania': 55, 'Samoa': 55, 'Slovak Republic': 55, 'United Arab Emirates': 55, 'Guam': 55, 'India': 55, 'Azerbaijan': 55, 'Lesotho': 55, 'Aruba': 55, 'Upper middle income': 55, 'Tajikistan': 55, 'Pacific island small states': 55, 'Turkey': 55, 'Afghanistan': 55, 'Venezuela, RB': 55, 'Bangladesh': 55, 'Mauritania': 55, 'Solomon Islands': 55, 'Korea, Rep.': 55, 'San Marino': 55, 'French Polynesia': 55, 'France': 55, 'Syrian Arab Republic': 55, 'Bermuda': 55, 'Namibia': 55, 'Somalia': 55, 'Peru': 55, 'Vanuatu': 55, 'Nigeria': 55, 'Seychelles': 55, 'Norway': 55, \"Cote d'Ivoire\": 55, 'Europe & Central Asia (developing only)': 55, 'Benin': 55, 'Other small states': 55, 'Cuba': 55, 'Cameroon': 55, 'Montenegro': 55, 'Low & middle income': 55, 'Togo': 55, 'China': 55, 'Armenia': 55, 'Timor-Leste': 55, 'Dominican Republic': 55, 'Ukraine': 55, 'Ghana': 55, 'Tonga': 55, 'Finland': 55, 'Latin America & Caribbean (developing only)': 55, 'High income': 55, 'Libya': 55, 'Cayman Islands': 55, 'Central African Republic': 55, 'Europe & Central Asia (all income levels)': 55, 'North America': 55, 'Liechtenstein': 55, 'Belarus': 55, 'Kenya': 55, 'Micronesia, Fed. Sts.': 55, 'Korea, Dem. Rep.': 55, 'Bulgaria': 55, 'Mauritius': 55, 'Romania': 55, 'Angola': 55, 'Central Europe and the Baltics': 55, 'Chad': 55, 'South Africa': 55, 'St. Vincent and the Grenadines': 55, 'Fiji': 55, 'Caribbean small states': 55, 'Brunei Darussalam': 55, 'Qatar': 55, 'Middle income': 55, 'Austria': 55, 'High income: OECD': 55, 'Mozambique': 55, 'Uganda': 55, 'Kyrgyz Republic': 55, 'Hungary': 55, 'Niger': 55, 'Isle of Man': 55, 'United States': 55, 'Brazil': 55, 'Middle East & North Africa (all income levels)': 55, 'Guinea': 55, 'Panama': 55, 'Mali': 55, 'Costa Rica': 55, 'Luxembourg': 55, 'Andorra': 55, 'Euro area': 55, 'Ireland': 55, 'Pakistan': 55, 'Palau': 55, 'Faeroe Islands': 55, 'Lower middle income': 55, 'Ecuador': 55, 'Czech Republic': 55, 'Australia': 55, 'Algeria': 55, 'El Salvador': 55, 'Tuvalu': 55, 'St. Kitts and Nevis': 55, 'Jordan': 55, 'Marshall Islands': 55, 'Chile': 55, 'Puerto Rico': 55, 'Belgium': 55, 'Kiribati': 55, 'Haiti': 55, 'Belize': 55, 'Fragile and conflict affected situations': 55, 'Sierra Leone': 55, 'Georgia': 55, 'East Asia & Pacific (developing only)': 55, 'Denmark': 55, 'Philippines': 55, 'Moldova': 55, 'Portugal': 55, 'Morocco': 55, 'Croatia': 55, 'Mongolia': 55, 'Guinea-Bissau': 55, 'Thailand': 55, 'Macedonia, FYR': 55, 'Grenada': 55, 'Yemen, Rep.': 55, 'Iraq': 55, 'Egypt, Arab Rep.': 55, 'Estonia': 55, 'Uruguay': 55, 'Sweden': 55, 'Mexico': 55, 'Hong Kong SAR, China': 55, 'Uzbekistan': 55, 'West Bank and Gaza': 25, 'Djibouti': 55, 'Rwanda': 55, 'Antigua and Barbuda': 55, 'Low income': 55, 'Colombia': 55, 'Burundi': 55, 'Least developed countries: UN classification': 55, 'Cyprus': 55, 'Barbados': 55, 'Madagascar': 55, 'Italy': 55, 'Curacao': 55, 'Bhutan': 55, 'Sudan': 55, 'Sub-Saharan Africa (developing only)': 55, 'Singapore': 55, 'Malta': 55, 'Netherlands': 55, 'Macao SAR, China': 55, 'Suriname': 55, 'Middle East & North Africa (developing only)': 55, 'Turks and Caicos Islands': 55, 'Iran, Islamic Rep.': 55, 'Israel': 55, 'Indonesia': 55, 'Malaysia': 55, 'Iceland': 55, 'Zambia': 55, 'Sub-Saharan Africa (all income levels)': 55, 'Senegal': 55, 'Papua New Guinea': 55, 'Malawi': 55, 'Trinidad and Tobago': 55, 'Zimbabwe': 55, 'Germany': 55, 'Oman': 55, 'Kazakhstan': 55, 'Poland': 55, 'Sint Maarten (Dutch part)': 17, 'Eritrea': 55, 'Small states': 55, 'New Caledonia': 55, 'Sri Lanka': 55, 'Latvia': 55, 'South Sudan': 55, 'Guyana': 55, 'Nepal': 55, 'Honduras': 55, 'Myanmar': 55, 'Equatorial Guinea': 55, 'Tunisia': 55, 'Nicaragua': 55, 'Congo, Dem. Rep.': 55, 'Serbia': 25, 'Botswana': 55, 'United Kingdom': 55, 'Gambia, The': 55, 'High income: nonOECD': 55, 'Greece': 55, 'Paraguay': 55, 'Lebanon': 55, 'Comoros': 55, 'Heavily indebted poor countries (HIPC)': 55}\n"
     ]
    }
   ],
   "source": [
    "import pandas as pd\n",
    "wdi = pd.read_csv('world_dev_ind.csv', chunksize=10)\n",
    "\n",
    "count_dict = {}\n",
    "for chunk in wdi:\n",
    "    for countryName in chunk['CountryName']:\n",
    "        if countryName in count_dict.keys():\n",
    "            count_dict[countryName] += 1\n",
    "        else:\n",
    "            count_dict[countryName] = 1\n",
    "\n",
    "print(count_dict)"
   ]
  },
  {
   "cell_type": "code",
   "execution_count": 33,
   "metadata": {},
   "outputs": [
    {
     "name": "stdout",
     "output_type": "stream",
     "text": [
      "6\n",
      "5\n",
      "5\n",
      "6\n",
      "7\n"
     ]
    }
   ],
   "source": [
    "lannister = ['cersei', 'jaime', 'tywin', 'tyrion', 'joffrey']\n",
    "\n",
    "def get_lengths(input_list):\n",
    "    for person in lannister:\n",
    "        yield len(person)\n",
    "        \n",
    "for value in get_lengths(lannister):\n",
    "    print(value)"
   ]
  },
  {
   "cell_type": "code",
   "execution_count": 37,
   "metadata": {},
   "outputs": [
    {
     "name": "stdout",
     "output_type": "stream",
     "text": [
      "CountryName,CountryCode,Year,Total Population,Urban population (% of total)\n",
      "\n"
     ]
    }
   ],
   "source": [
    "def read_large_file(file_object):\n",
    "    line = file_object.readline()\n",
    "    while True:\n",
    "        if not line:\n",
    "            break\n",
    "        yield line\n",
    "        line = file_object.readline()\n",
    "        \n",
    "with open('world_dev_ind.csv') as file:\n",
    "    gen_file = read_large_file(file)\n",
    "    print(next(gen_file))"
   ]
  },
  {
   "cell_type": "code",
   "execution_count": 48,
   "metadata": {},
   "outputs": [
    {
     "name": "stdout",
     "output_type": "stream",
     "text": [
      "[(91401583.0, 44.507921139002597), (92237118.0, 45.206665319194002), (93014890.0, 45.866564696018003), (93845749.0, 46.5340927663649), (94722599.0, 47.208742980352604)]\n"
     ]
    }
   ],
   "source": [
    "urb_pop_reader = pd.read_csv('ind_pop_data.csv', chunksize=1000)\n",
    "df_urb_pop = next(urb_pop_reader)\n",
    "df_urb_ceb = df_urb_pop[df_urb_pop['CountryCode'] == 'CEB']\n",
    "pops_list = list(zip(df_urb_ceb['Total Population'], df_urb_ceb['Urban population (% of total)']))\n",
    "df_urb_ceb['Total Urban Population'] = [row[0] * row[1] * 0.01 for row in pops_list]"
   ]
  },
  {
   "cell_type": "code",
   "execution_count": 63,
   "metadata": {},
   "outputs": [
    {
     "name": "stderr",
     "output_type": "stream",
     "text": [
      "D:\\Anaconda2\\lib\\site-packages\\ipykernel\\__main__.py:10: SettingWithCopyWarning: \n",
      "A value is trying to be set on a copy of a slice from a DataFrame.\n",
      "Try using .loc[row_indexer,col_indexer] = value instead\n",
      "\n",
      "See the caveats in the documentation: http://pandas.pydata.org/pandas-docs/stable/indexing.html#indexing-view-versus-copy\n"
     ]
    },
    {
     "data": {
      "image/png": "[encoded data removed]",
      "text/plain": [
       "<matplotlib.figure.Figure at 0xcb20e48>"
      ]
     },
     "metadata": {},
     "output_type": "display_data"
    }
   ],
   "source": [
    "import matplotlib.pyplot as plt\n",
    "\n",
    "urb_pop_reader = pd.read_csv('ind_pop_data.csv', chunksize=1000)\n",
    "data = pd.DataFrame()\n",
    "for df_urb_pop in urb_pop_reader:\n",
    "    df_urb_ceb = df_urb_pop[df_urb_pop['CountryCode'] == 'CEB']\n",
    "    \n",
    "    pops_list = list(zip(df_urb_ceb['Total Population'], df_urb_ceb['Urban population (% of total)']))\n",
    "    \n",
    "    df_urb_ceb['Total Urban Population'] = [row[0] * row[1] * 0.01 for row in pops_list]\n",
    "    \n",
    "    data = data.append(df_urb_ceb)\n",
    "\n",
    "data.plot(kind='scatter', x='Year', y='Total Urban Population')\n",
    "# plt.scatter(data['Year'], data['Total Urban Population'])\n",
    "# plt.xscale('log')\n",
    "plt.show()"
   ]
  }
 ],
 "metadata": {
  "kernelspec": {
   "display_name": "Python [default]",
   "language": "python",
   "name": "python2"
  },
  "language_info": {
   "codemirror_mode": {
    "name": "ipython",
    "version": 2
   },
   "file_extension": ".py",
   "mimetype": "text/x-python",
   "name": "python",
   "nbconvert_exporter": "python",
   "pygments_lexer": "ipython2",
   "version": "2.7.14"
  }
 },
 "nbformat": 4,
 "nbformat_minor": 2
}
