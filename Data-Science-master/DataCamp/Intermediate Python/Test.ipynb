{
 "cells": [
  {
   "cell_type": "code",
   "execution_count": 2,
   "metadata": {
    "collapsed": false
   },
   "outputs": [],
   "source": [
    "import pandas as pd\n",
    "import matplotlib.pyplot as plt\n",
    "import numpy as np"
   ]
  },
  {
   "cell_type": "markdown",
   "metadata": {},
   "source": [
    "# Scatter Plot"
   ]
  },
  {
   "cell_type": "code",
   "execution_count": 14,
   "metadata": {
    "collapsed": true
   },
   "outputs": [
    {
     "name": "stdout",
     "output_type": "stream",
     "text": [
      "<type 'numpy.ndarray'>\n"
     ]
    }
   ],
   "source": [
    "df = pd.read_csv('gapminder.csv', index_col=0)\n",
    "print(type(df['life_exp'].values))"
   ]
  },
  {
   "cell_type": "code",
   "execution_count": 15,
   "metadata": {},
   "outputs": [],
   "source": [
    "gdp_cap = df[['gdp_cap']].values\n",
    "life_exp = df['life_exp'].values\n",
    "pop = [i/1E6 for i in df['population'].values]"
   ]
  },
  {
   "cell_type": "code",
   "execution_count": 16,
   "metadata": {},
   "outputs": [
    {
     "name": "stdout",
     "output_type": "stream",
     "text": [
      "142\n",
      "142\n"
     ]
    },
    {
     "data": {
      "image/png": "[encoded data removed]",
      "text/plain": [
       "<matplotlib.figure.Figure at 0xe481b38>"
      ]
     },
     "metadata": {},
     "output_type": "display_data"
    }
   ],
   "source": [
    "col = ['red', 'green', 'blue', 'blue', 'yellow', 'black', 'green', 'red', 'red', 'green', 'blue', 'yellow', 'green', 'blue', 'yellow', 'green', 'blue', 'blue', 'red', 'blue', 'yellow', 'blue', 'blue', 'yellow', 'red', 'yellow', 'blue', 'blue', 'blue', 'yellow', 'blue', 'green', 'yellow', 'green', 'green', 'blue', 'yellow', 'yellow', 'blue', 'yellow', 'blue', 'blue', 'blue', 'green', 'green', 'blue', 'blue', 'green', 'blue', 'green', 'yellow', 'blue', 'blue', 'yellow', 'yellow', 'red', 'green', 'green', 'red', 'red', 'red', 'red', 'green', 'red', 'green', 'yellow', 'red', 'red', 'blue', 'red', 'red', 'red', 'red', 'blue', 'blue', 'blue', 'blue', 'blue', 'red', 'blue', 'blue', 'blue', 'yellow', 'red', 'green', 'blue', 'blue', 'red', 'blue', 'red', 'green', 'black', 'yellow', 'blue', 'blue', 'green', 'red', 'red', 'yellow', 'yellow', 'yellow', 'red', 'green', 'green', 'yellow', 'blue', 'green', 'blue', 'blue', 'red', 'blue', 'green', 'blue', 'red', 'green', 'green', 'blue', 'blue', 'green', 'red', 'blue', 'blue', 'green', 'green', 'red', 'red', 'blue', 'red', 'blue', 'yellow', 'blue', 'green', 'blue', 'green', 'yellow', 'yellow', 'yellow', 'red', 'red', 'red', 'blue', 'blue']\n",
    "\n",
    "print(len(col))\n",
    "print(len(life_exp))\n",
    "\n",
    "plt.scatter(gdp_cap, life_exp, s=pop*2, c=col, alpha=0.8)\n",
    "plt.xscale('log')\n",
    "\n",
    "plt.xlabel('GDP per Capita [in USD]')\n",
    "plt.ylabel('Life Expectancy [in years]')\n",
    "plt.xticks([1000, 10000, 100000], ['1k', '10k', '100k'])\n",
    "plt.title('World Development in 2007')\n",
    "\n",
    "plt.text(1550, 71, 'India')\n",
    "plt.text(5700, 80, 'China')\n",
    "\n",
    "plt.grid(True)\n",
    "\n",
    "plt.show()"
   ]
  },
  {
   "cell_type": "code",
   "execution_count": 20,
   "metadata": {},
   "outputs": [
    {
     "data": {
      "text/html": [
       "<div>\n",
       "<style>\n",
       "    .dataframe thead tr:only-child th {\n",
       "        text-align: right;\n",
       "    }\n",
       "\n",
       "    .dataframe thead th {\n",
       "        text-align: left;\n",
       "    }\n",
       "\n",
       "    .dataframe tbody tr th {\n",
       "        vertical-align: top;\n",
       "    }\n",
       "</style>\n",
       "<table border=\"1\" class=\"dataframe\">\n",
       "  <thead>\n",
       "    <tr style=\"text-align: right;\">\n",
       "      <th></th>\n",
       "      <th>country</th>\n",
       "      <th>year</th>\n",
       "      <th>population</th>\n",
       "      <th>cont</th>\n",
       "      <th>life_exp</th>\n",
       "      <th>gdp_cap</th>\n",
       "    </tr>\n",
       "  </thead>\n",
       "  <tbody>\n",
       "    <tr>\n",
       "      <th>23</th>\n",
       "      <td>Albania</td>\n",
       "      <td>2007</td>\n",
       "      <td>3600523.0</td>\n",
       "      <td>Europe</td>\n",
       "      <td>76.423</td>\n",
       "      <td>5937.029526</td>\n",
       "    </tr>\n",
       "    <tr>\n",
       "      <th>35</th>\n",
       "      <td>Algeria</td>\n",
       "      <td>2007</td>\n",
       "      <td>33333216.0</td>\n",
       "      <td>Africa</td>\n",
       "      <td>72.301</td>\n",
       "      <td>6223.367465</td>\n",
       "    </tr>\n",
       "    <tr>\n",
       "      <th>59</th>\n",
       "      <td>Argentina</td>\n",
       "      <td>2007</td>\n",
       "      <td>40301927.0</td>\n",
       "      <td>Americas</td>\n",
       "      <td>75.320</td>\n",
       "      <td>12779.379640</td>\n",
       "    </tr>\n",
       "    <tr>\n",
       "      <th>71</th>\n",
       "      <td>Australia</td>\n",
       "      <td>2007</td>\n",
       "      <td>20434176.0</td>\n",
       "      <td>Oceania</td>\n",
       "      <td>81.235</td>\n",
       "      <td>34435.367440</td>\n",
       "    </tr>\n",
       "    <tr>\n",
       "      <th>83</th>\n",
       "      <td>Austria</td>\n",
       "      <td>2007</td>\n",
       "      <td>8199783.0</td>\n",
       "      <td>Europe</td>\n",
       "      <td>79.829</td>\n",
       "      <td>36126.492700</td>\n",
       "    </tr>\n",
       "    <tr>\n",
       "      <th>95</th>\n",
       "      <td>Bahrain</td>\n",
       "      <td>2007</td>\n",
       "      <td>708573.0</td>\n",
       "      <td>Asia</td>\n",
       "      <td>75.635</td>\n",
       "      <td>29796.048340</td>\n",
       "    </tr>\n",
       "    <tr>\n",
       "      <th>119</th>\n",
       "      <td>Belgium</td>\n",
       "      <td>2007</td>\n",
       "      <td>10392226.0</td>\n",
       "      <td>Europe</td>\n",
       "      <td>79.441</td>\n",
       "      <td>33692.605080</td>\n",
       "    </tr>\n",
       "    <tr>\n",
       "      <th>155</th>\n",
       "      <td>Bosnia and Herzegovina</td>\n",
       "      <td>2007</td>\n",
       "      <td>4552198.0</td>\n",
       "      <td>Europe</td>\n",
       "      <td>74.852</td>\n",
       "      <td>7446.298803</td>\n",
       "    </tr>\n",
       "    <tr>\n",
       "      <th>179</th>\n",
       "      <td>Brazil</td>\n",
       "      <td>2007</td>\n",
       "      <td>190010647.0</td>\n",
       "      <td>Americas</td>\n",
       "      <td>72.390</td>\n",
       "      <td>9065.800825</td>\n",
       "    </tr>\n",
       "    <tr>\n",
       "      <th>191</th>\n",
       "      <td>Bulgaria</td>\n",
       "      <td>2007</td>\n",
       "      <td>7322858.0</td>\n",
       "      <td>Europe</td>\n",
       "      <td>73.005</td>\n",
       "      <td>10680.792820</td>\n",
       "    </tr>\n",
       "  </tbody>\n",
       "</table>\n",
       "</div>"
      ],
      "text/plain": [
       "                    country  year   population      cont  life_exp  \\\n",
       "23                  Albania  2007    3600523.0    Europe    76.423   \n",
       "35                  Algeria  2007   33333216.0    Africa    72.301   \n",
       "59                Argentina  2007   40301927.0  Americas    75.320   \n",
       "71                Australia  2007   20434176.0   Oceania    81.235   \n",
       "83                  Austria  2007    8199783.0    Europe    79.829   \n",
       "95                  Bahrain  2007     708573.0      Asia    75.635   \n",
       "119                 Belgium  2007   10392226.0    Europe    79.441   \n",
       "155  Bosnia and Herzegovina  2007    4552198.0    Europe    74.852   \n",
       "179                  Brazil  2007  190010647.0  Americas    72.390   \n",
       "191                Bulgaria  2007    7322858.0    Europe    73.005   \n",
       "\n",
       "          gdp_cap  \n",
       "23    5937.029526  \n",
       "35    6223.367465  \n",
       "59   12779.379640  \n",
       "71   34435.367440  \n",
       "83   36126.492700  \n",
       "95   29796.048340  \n",
       "119  33692.605080  \n",
       "155   7446.298803  \n",
       "179   9065.800825  \n",
       "191  10680.792820  "
      ]
     },
     "execution_count": 20,
     "metadata": {},
     "output_type": "execute_result"
    }
   ],
   "source": [
    "df.loc[df['life_exp'] > 70, :].head(10)"
   ]
  },
  {
   "cell_type": "code",
   "execution_count": 21,
   "metadata": {},
   "outputs": [
    {
     "name": "stdout",
     "output_type": "stream",
     "text": [
      "     cars_per_cap        country  drives_right\n",
      "US            809  United States          True\n",
      "RU            200         Russia          True\n",
      "MOR            70        Morocco          True\n",
      "EG             45          Egypt          True\n"
     ]
    }
   ],
   "source": [
    "import pandas as pd\n",
    "cars = pd.read_csv('cars.csv', index_col = 0)\n",
    "\n",
    "# Extract drives_right column as Series: dr - a boolean Series,\n",
    "dr = cars['drives_right']\n",
    "\n",
    "# Use dr to subset cars: sel\n",
    "sel = cars[dr]\n",
    "\n",
    "# Print sel\n",
    "print(sel)"
   ]
  },
  {
   "cell_type": "code",
   "execution_count": 3,
   "metadata": {},
   "outputs": [
    {
     "data": {
      "text/plain": [
       "\u001b[1;31mSignature:\u001b[0m \u001b[0mplt\u001b[0m\u001b[1;33m.\u001b[0m\u001b[0mscatter\u001b[0m\u001b[1;33m(\u001b[0m\u001b[0mx\u001b[0m\u001b[1;33m,\u001b[0m \u001b[0my\u001b[0m\u001b[1;33m,\u001b[0m \u001b[0ms\u001b[0m\u001b[1;33m=\u001b[0m\u001b[0mNone\u001b[0m\u001b[1;33m,\u001b[0m \u001b[0mc\u001b[0m\u001b[1;33m=\u001b[0m\u001b[0mNone\u001b[0m\u001b[1;33m,\u001b[0m \u001b[0mmarker\u001b[0m\u001b[1;33m=\u001b[0m\u001b[0mNone\u001b[0m\u001b[1;33m,\u001b[0m \u001b[0mcmap\u001b[0m\u001b[1;33m=\u001b[0m\u001b[0mNone\u001b[0m\u001b[1;33m,\u001b[0m \u001b[0mnorm\u001b[0m\u001b[1;33m=\u001b[0m\u001b[0mNone\u001b[0m\u001b[1;33m,\u001b[0m \u001b[0mvmin\u001b[0m\u001b[1;33m=\u001b[0m\u001b[0mNone\u001b[0m\u001b[1;33m,\u001b[0m \u001b[0mvmax\u001b[0m\u001b[1;33m=\u001b[0m\u001b[0mNone\u001b[0m\u001b[1;33m,\u001b[0m \u001b[0malpha\u001b[0m\u001b[1;33m=\u001b[0m\u001b[0mNone\u001b[0m\u001b[1;33m,\u001b[0m \u001b[0mlinewidths\u001b[0m\u001b[1;33m=\u001b[0m\u001b[0mNone\u001b[0m\u001b[1;33m,\u001b[0m \u001b[0mverts\u001b[0m\u001b[1;33m=\u001b[0m\u001b[0mNone\u001b[0m\u001b[1;33m,\u001b[0m \u001b[0medgecolors\u001b[0m\u001b[1;33m=\u001b[0m\u001b[0mNone\u001b[0m\u001b[1;33m,\u001b[0m \u001b[0mhold\u001b[0m\u001b[1;33m=\u001b[0m\u001b[0mNone\u001b[0m\u001b[1;33m,\u001b[0m \u001b[0mdata\u001b[0m\u001b[1;33m=\u001b[0m\u001b[0mNone\u001b[0m\u001b[1;33m,\u001b[0m \u001b[1;33m**\u001b[0m\u001b[0mkwargs\u001b[0m\u001b[1;33m)\u001b[0m\u001b[1;33m\u001b[0m\u001b[0m\n",
       "\u001b[1;31mDocstring:\u001b[0m\n",
       "Make a scatter plot of `x` vs `y`.\n",
       "\n",
       "Marker size is scaled by `s` and marker color is mapped to `c`.\n",
       "\n",
       "Parameters\n",
       "----------\n",
       "x, y : array_like, shape (n, )\n",
       "    Input data\n",
       "\n",
       "s : scalar or array_like, shape (n, ), optional\n",
       "    size in points^2.  Default is `rcParams['lines.markersize'] ** 2`.\n",
       "\n",
       "c : color, sequence, or sequence of color, optional, default: 'b'\n",
       "    `c` can be a single color format string, or a sequence of color\n",
       "    specifications of length `N`, or a sequence of `N` numbers to be\n",
       "    mapped to colors using the `cmap` and `norm` specified via kwargs\n",
       "    (see below). Note that `c` should not be a single numeric RGB or\n",
       "    RGBA sequence because that is indistinguishable from an array of\n",
       "    values to be colormapped.  `c` can be a 2-D array in which the\n",
       "    rows are RGB or RGBA, however, including the case of a single\n",
       "    row to specify the same color for all points.\n",
       "\n",
       "marker : `~matplotlib.markers.MarkerStyle`, optional, default: 'o'\n",
       "    See `~matplotlib.markers` for more information on the different\n",
       "    styles of markers scatter supports. `marker` can be either\n",
       "    an instance of the class or the text shorthand for a particular\n",
       "    marker.\n",
       "\n",
       "cmap : `~matplotlib.colors.Colormap`, optional, default: None\n",
       "    A `~matplotlib.colors.Colormap` instance or registered name.\n",
       "    `cmap` is only used if `c` is an array of floats. If None,\n",
       "    defaults to rc `image.cmap`.\n",
       "\n",
       "norm : `~matplotlib.colors.Normalize`, optional, default: None\n",
       "    A `~matplotlib.colors.Normalize` instance is used to scale\n",
       "    luminance data to 0, 1. `norm` is only used if `c` is an array of\n",
       "    floats. If `None`, use the default :func:`normalize`.\n",
       "\n",
       "vmin, vmax : scalar, optional, default: None\n",
       "    `vmin` and `vmax` are used in conjunction with `norm` to normalize\n",
       "    luminance data.  If either are `None`, the min and max of the\n",
       "    color array is used.  Note if you pass a `norm` instance, your\n",
       "    settings for `vmin` and `vmax` will be ignored.\n",
       "\n",
       "alpha : scalar, optional, default: None\n",
       "    The alpha blending value, between 0 (transparent) and 1 (opaque)\n",
       "\n",
       "linewidths : scalar or array_like, optional, default: None\n",
       "    If None, defaults to (lines.linewidth,).\n",
       "\n",
       "verts : sequence of (x, y), optional\n",
       "    If `marker` is None, these vertices will be used to\n",
       "    construct the marker.  The center of the marker is located\n",
       "    at (0,0) in normalized units.  The overall marker is rescaled\n",
       "    by ``s``.\n",
       "\n",
       "edgecolors : color or sequence of color, optional, default: None\n",
       "    If None, defaults to 'face'\n",
       "\n",
       "    If 'face', the edge color will always be the same as\n",
       "    the face color.\n",
       "\n",
       "    If it is 'none', the patch boundary will not\n",
       "    be drawn.\n",
       "\n",
       "    For non-filled markers, the `edgecolors` kwarg\n",
       "    is ignored and forced to 'face' internally.\n",
       "\n",
       "Returns\n",
       "-------\n",
       "paths : `~matplotlib.collections.PathCollection`\n",
       "\n",
       "Other Parameters\n",
       "----------------\n",
       "**kwargs : `~matplotlib.collections.Collection` properties\n",
       "\n",
       "See Also\n",
       "--------\n",
       "plot : to plot scatter plots when markers are identical in size and\n",
       "    color\n",
       "\n",
       "Notes\n",
       "-----\n",
       "\n",
       "* The `plot` function will be faster for scatterplots where markers\n",
       "  don't vary in size or color.\n",
       "\n",
       "* Any or all of `x`, `y`, `s`, and `c` may be masked arrays, in which\n",
       "  case all masks will be combined and only unmasked points will be\n",
       "  plotted.\n",
       "\n",
       "  Fundamentally, scatter works with 1-D arrays; `x`, `y`, `s`, and `c`\n",
       "  may be input as 2-D arrays, but within scatter they will be\n",
       "  flattened. The exception is `c`, which will be flattened only if its\n",
       "  size matches the size of `x` and `y`.\n",
       "\n",
       ".. note::\n",
       "    In addition to the above described arguments, this function can take a\n",
       "    **data** keyword argument. If such a **data** argument is given, the\n",
       "    following arguments are replaced by **data[<arg>]**:\n",
       "\n",
       "    * All arguments with the following names: 'c', 'color', 'edgecolors', 'facecolor', 'facecolors', 'linewidths', 's', 'x', 'y'.\n",
       "\u001b[1;31mFile:\u001b[0m      d:\\anaconda\\lib\\site-packages\\matplotlib\\pyplot.py\n",
       "\u001b[1;31mType:\u001b[0m      function\n"
      ]
     },
     "metadata": {},
     "output_type": "display_data"
    }
   ],
   "source": [
    "?plt.scatter"
   ]
  }
 ],
 "metadata": {
  "anaconda-cloud": {},
  "kernelspec": {
   "display_name": "Python [default]",
   "language": "python",
   "name": "python2"
  },
  "language_info": {
   "codemirror_mode": {
    "name": "ipython",
    "version": 2
   },
   "file_extension": ".py",
   "mimetype": "text/x-python",
   "name": "python",
   "nbconvert_exporter": "python",
   "pygments_lexer": "ipython2",
   "version": "2.7.12"
  }
 },
 "nbformat": 4,
 "nbformat_minor": 2
}
