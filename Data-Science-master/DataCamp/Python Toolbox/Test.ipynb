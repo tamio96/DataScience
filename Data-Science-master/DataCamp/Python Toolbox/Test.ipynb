{
 "cells": [
  {
   "cell_type": "code",
   "execution_count": 1,
   "metadata": {
    "collapsed": false
   },
   "outputs": [
    {
     "name": "stdout",
     "output_type": "stream",
     "text": [
      "congratulations!!!\n",
      "you!!!\n"
     ]
    }
   ],
   "source": [
    "def shout_out(word1, word2):\n",
    "    shout1 = word1 + '!!!'\n",
    "    \n",
    "    shout2 = word2 + '!!!'\n",
    "    \n",
    "    return (shout1, shout2)\n",
    "\n",
    "yell1, yell2 = shout_out('congratulations', 'you')\n",
    "print(yell1)\n",
    "print(yell2)"
   ]
  },
  {
   "cell_type": "code",
   "execution_count": 6,
   "metadata": {
    "collapsed": false
   },
   "outputs": [
    {
     "name": "stdout",
     "output_type": "stream",
     "text": [
      "congratulations!!!\n"
     ]
    }
   ],
   "source": [
    "def shout_out(word1, word2):\n",
    "    shout1 = word1 + '!!!'\n",
    "    \n",
    "    shout2 = word2 + '!!!'\n",
    "    \n",
    "    return (shout1, shout2)\n",
    "\n",
    "yell = iter(shout_out('congratulations', 'you'))\n",
    "print(next(yell))"
   ]
  },
  {
   "cell_type": "code",
   "execution_count": 11,
   "metadata": {
    "collapsed": false
   },
   "outputs": [
    {
     "name": "stdout",
     "output_type": "stream",
     "text": [
      "(1, 2, 3)\n"
     ]
    }
   ],
   "source": [
    "gen_fellow = (1, 2, 3)\n",
    "print(gen_fellow)"
   ]
  },
  {
   "cell_type": "code",
   "execution_count": 13,
   "metadata": {
    "collapsed": false
   },
   "outputs": [
    {
     "name": "stdout",
     "output_type": "stream",
     "text": [
      "{'et': 1, 'en': 97, 'und': 2}\n"
     ]
    }
   ],
   "source": [
    "import pandas as pd\n",
    "df = pd.read_csv('tweets.csv')\n",
    "\n",
    "lang_count = {}\n",
    "\n",
    "col = df['lang']\n",
    "\n",
    "for entry in col:\n",
    "    if entry in lang_count.keys():\n",
    "        lang_count[entry] += 1\n",
    "    else:\n",
    "        lang_count[entry] = 1\n",
    "        \n",
    "print(lang_count)        "
   ]
  },
  {
   "cell_type": "code",
   "execution_count": 14,
   "metadata": {
    "collapsed": false
   },
   "outputs": [
    {
     "name": "stdout",
     "output_type": "stream",
     "text": [
      "{'et': 1, 'en': 97, 'und': 2}\n"
     ]
    }
   ],
   "source": [
    "def count_entries(df, col_name):\n",
    "    lang_count = {}\n",
    "    \n",
    "    col = df[col_name]\n",
    "    \n",
    "    for entry in col:\n",
    "        if entry in lang_count.keys():\n",
    "            lang_count[entry] += 1\n",
    "        else:\n",
    "            lang_count[entry] = 1\n",
    "    \n",
    "    return lang_count\n",
    "\n",
    "result = count_entries(pd.read_csv('tweets.csv'), 'lang')\n",
    "print(result)"
   ]
  },
  {
   "cell_type": "code",
   "execution_count": 22,
   "metadata": {
    "collapsed": false
   },
   "outputs": [
    {
     "name": "stdout",
     "output_type": "stream",
     "text": [
      "6\n"
     ]
    }
   ],
   "source": [
    "def func1():\n",
    "    num = 3\n",
    "    \n",
    "def func2():\n",
    "    global num\n",
    "    num = 6\n",
    "    \n",
    "func1() \n",
    "func2()\n",
    "print(num)"
   ]
  },
  {
   "cell_type": "code",
   "execution_count": 24,
   "metadata": {
    "collapsed": false
   },
   "outputs": [
    {
     "name": "stdout",
     "output_type": "stream",
     "text": [
      "('a!!!', 'b!!!', 'c!!!')\n"
     ]
    }
   ],
   "source": [
    "def three_shouts(word1, word2, word3):\n",
    "    def inner(word):\n",
    "        return word + '!!!'\n",
    "    return (inner(word1), inner(word2), inner(word3))\n",
    "\n",
    "print(three_shouts('a', 'b', 'c'))"
   ]
  },
  {
   "cell_type": "code",
   "execution_count": 25,
   "metadata": {
    "collapsed": false
   },
   "outputs": [
    {
     "name": "stdout",
     "output_type": "stream",
     "text": [
      "hellohello\n"
     ]
    }
   ],
   "source": [
    "def echo(n):\n",
    "    def inner_echo(word):\n",
    "        echo_word = word * n\n",
    "        return echo_word\n",
    "    return inner_echo\n",
    "\n",
    "twice = echo(2)\n",
    "print(twice('hello'))"
   ]
  },
  {
   "cell_type": "code",
   "execution_count": 29,
   "metadata": {
    "collapsed": false
   },
   "outputs": [
    {
     "ename": "SyntaxError",
     "evalue": "invalid syntax (<ipython-input-29-bec4a65acc0b>, line 5)",
     "output_type": "error",
     "traceback": [
      "\u001b[0;36m  File \u001b[0;32m\"<ipython-input-29-bec4a65acc0b>\"\u001b[0;36m, line \u001b[0;32m5\u001b[0m\n\u001b[0;31m    nonlocal echo_word\u001b[0m\n\u001b[0m                     ^\u001b[0m\n\u001b[0;31mSyntaxError\u001b[0m\u001b[0;31m:\u001b[0m invalid syntax\n"
     ]
    }
   ],
   "source": [
    "def echo_shout(word):\n",
    "    echo_word = word\n",
    "    \n",
    "    def shout():\n",
    "        nonlocal echo_word\n",
    "        \n",
    "        echo_word = echo_word + '!!!'\n",
    "        \n",
    "    shout()\n",
    "    \n",
    "    print(echo_word)\n",
    "    \n",
    "echo_shout('hello')    "
   ]
  },
  {
   "cell_type": "code",
   "execution_count": 1,
   "metadata": {
    "collapsed": false
   },
   "outputs": [
    {
     "name": "stdout",
     "output_type": "stream",
     "text": [
      "protegoaccioexpecto patronumlegilimens\n"
     ]
    }
   ],
   "source": [
    "spells = [\"protego\", \"accio\", \"expecto patronum\", \"legilimens\"]\n",
    "\n",
    "concat_spell = reduce(lambda speel1, speel2: speel1 + speel2, spells)\n",
    "\n",
    "print(concat_spell)"
   ]
  }
 ],
 "metadata": {
  "anaconda-cloud": {},
  "kernelspec": {
   "display_name": "Python [default]",
   "language": "python",
   "name": "python2"
  },
  "language_info": {
   "codemirror_mode": {
    "name": "ipython",
    "version": 2
   },
   "file_extension": ".py",
   "mimetype": "text/x-python",
   "name": "python",
   "nbconvert_exporter": "python",
   "pygments_lexer": "ipython2",
   "version": "2.7.14"
  }
 },
 "nbformat": 4,
 "nbformat_minor": 2
}
